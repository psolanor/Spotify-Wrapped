{
 "cells": [
  {
   "cell_type": "markdown",
   "id": "e2fabae1-ee63-4901-b0e9-491069861132",
   "metadata": {},
   "source": [
    "# My Version of Spotify Wrapped"
   ]
  },
  {
   "cell_type": "markdown",
   "id": "5cbdbb6c-689d-4d47-933d-a745a11fbf27",
   "metadata": {},
   "source": [
    "### This uses my personal spotify data from March 2023 to March 2024"
   ]
  },
  {
   "cell_type": "code",
   "execution_count": 4,
   "id": "8be647ca-6661-4a91-a842-0f765d075ec9",
   "metadata": {},
   "outputs": [],
   "source": [
    "# Needed to make plotly plots show in JupyterLab\n",
    "import plotly.io as pio\n",
    "pio.renderers.default = \"plotly_mimetype\""
   ]
  },
  {
   "cell_type": "code",
   "execution_count": 5,
   "id": "e01d5d2b-ea2e-48b7-994f-fe41fed4ecba",
   "metadata": {},
   "outputs": [],
   "source": [
    "# All the necessary modules\n",
    "import pandas as pd\n",
    "import matplotlib.pyplot as plt\n",
    "import numpy as np\n",
    "import seaborn as sns\n",
    "import mplcursors\n",
    "import plotly.express as px\n",
    "import getpass\n",
    "from datetime import date"
   ]
  },
  {
   "cell_type": "markdown",
   "id": "006bdd08-07e7-4850-b7c5-adc2ba8e1fb8",
   "metadata": {},
   "source": [
    "## Import Excel data"
   ]
  },
  {
   "cell_type": "code",
   "execution_count": 6,
   "id": "592de865-94cb-4f51-9f1d-8b8a32725e92",
   "metadata": {},
   "outputs": [
    {
     "data": {
      "text/html": [
       "<div>\n",
       "<style scoped>\n",
       "    .dataframe tbody tr th:only-of-type {\n",
       "        vertical-align: middle;\n",
       "    }\n",
       "\n",
       "    .dataframe tbody tr th {\n",
       "        vertical-align: top;\n",
       "    }\n",
       "\n",
       "    .dataframe thead th {\n",
       "        text-align: right;\n",
       "    }\n",
       "</style>\n",
       "<table border=\"1\" class=\"dataframe\">\n",
       "  <thead>\n",
       "    <tr style=\"text-align: right;\">\n",
       "      <th></th>\n",
       "      <th>date</th>\n",
       "      <th>wkday</th>\n",
       "      <th>time</th>\n",
       "      <th>artistName</th>\n",
       "      <th>trackName</th>\n",
       "      <th>msPlayed</th>\n",
       "      <th>minsPlayed</th>\n",
       "      <th>Include Song</th>\n",
       "    </tr>\n",
       "    <tr>\n",
       "      <th>endTime</th>\n",
       "      <th></th>\n",
       "      <th></th>\n",
       "      <th></th>\n",
       "      <th></th>\n",
       "      <th></th>\n",
       "      <th></th>\n",
       "      <th></th>\n",
       "      <th></th>\n",
       "    </tr>\n",
       "  </thead>\n",
       "  <tbody>\n",
       "    <tr>\n",
       "      <th>2023-03-01 00:02</th>\n",
       "      <td>2023-03-01</td>\n",
       "      <td>Wed</td>\n",
       "      <td>00:02</td>\n",
       "      <td>J. Cole</td>\n",
       "      <td>False Prophets</td>\n",
       "      <td>237426</td>\n",
       "      <td>3.957100</td>\n",
       "      <td>Yes</td>\n",
       "    </tr>\n",
       "    <tr>\n",
       "      <th>2023-03-01 00:12</th>\n",
       "      <td>2023-03-01</td>\n",
       "      <td>Wed</td>\n",
       "      <td>00:12</td>\n",
       "      <td>Mac Miller</td>\n",
       "      <td>Cinderella (feat. Ty Dolla $ign)</td>\n",
       "      <td>2376</td>\n",
       "      <td>0.039600</td>\n",
       "      <td>No</td>\n",
       "    </tr>\n",
       "    <tr>\n",
       "      <th>2023-03-01 01:10</th>\n",
       "      <td>2023-03-01</td>\n",
       "      <td>Wed</td>\n",
       "      <td>01:10</td>\n",
       "      <td>RM</td>\n",
       "      <td>Closer (with Paul Blanco, Mahalia)</td>\n",
       "      <td>50282</td>\n",
       "      <td>0.838033</td>\n",
       "      <td>No</td>\n",
       "    </tr>\n",
       "    <tr>\n",
       "      <th>2023-03-01 01:14</th>\n",
       "      <td>2023-03-01</td>\n",
       "      <td>Wed</td>\n",
       "      <td>01:14</td>\n",
       "      <td>TOMORROW X TOGETHER</td>\n",
       "      <td>CROWN</td>\n",
       "      <td>230706</td>\n",
       "      <td>3.845100</td>\n",
       "      <td>Yes</td>\n",
       "    </tr>\n",
       "    <tr>\n",
       "      <th>2023-03-01 01:18</th>\n",
       "      <td>2023-03-01</td>\n",
       "      <td>Wed</td>\n",
       "      <td>01:18</td>\n",
       "      <td>THE BOYZ</td>\n",
       "      <td>Giddy Up</td>\n",
       "      <td>1184</td>\n",
       "      <td>0.019733</td>\n",
       "      <td>No</td>\n",
       "    </tr>\n",
       "    <tr>\n",
       "      <th>...</th>\n",
       "      <td>...</td>\n",
       "      <td>...</td>\n",
       "      <td>...</td>\n",
       "      <td>...</td>\n",
       "      <td>...</td>\n",
       "      <td>...</td>\n",
       "      <td>...</td>\n",
       "      <td>...</td>\n",
       "    </tr>\n",
       "    <tr>\n",
       "      <th>2024-03-01 20:40</th>\n",
       "      <td>2024-03-01</td>\n",
       "      <td>Fri</td>\n",
       "      <td>20:40</td>\n",
       "      <td>Hayley Kiyoko</td>\n",
       "      <td>Sleepover</td>\n",
       "      <td>1927</td>\n",
       "      <td>0.032117</td>\n",
       "      <td>No</td>\n",
       "    </tr>\n",
       "    <tr>\n",
       "      <th>2024-03-01 20:40</th>\n",
       "      <td>2024-03-01</td>\n",
       "      <td>Fri</td>\n",
       "      <td>20:40</td>\n",
       "      <td>Shawn Mendes</td>\n",
       "      <td>Lost In Japan</td>\n",
       "      <td>2252</td>\n",
       "      <td>0.037533</td>\n",
       "      <td>No</td>\n",
       "    </tr>\n",
       "    <tr>\n",
       "      <th>2024-03-01 20:44</th>\n",
       "      <td>2024-03-01</td>\n",
       "      <td>Fri</td>\n",
       "      <td>20:44</td>\n",
       "      <td>Tove Lo</td>\n",
       "      <td>True Disaster</td>\n",
       "      <td>4551</td>\n",
       "      <td>0.075850</td>\n",
       "      <td>No</td>\n",
       "    </tr>\n",
       "    <tr>\n",
       "      <th>2024-03-01 20:44</th>\n",
       "      <td>2024-03-01</td>\n",
       "      <td>Fri</td>\n",
       "      <td>20:44</td>\n",
       "      <td>King Princess</td>\n",
       "      <td>1950</td>\n",
       "      <td>225133</td>\n",
       "      <td>3.752217</td>\n",
       "      <td>Yes</td>\n",
       "    </tr>\n",
       "    <tr>\n",
       "      <th>2024-03-01 20:44</th>\n",
       "      <td>2024-03-01</td>\n",
       "      <td>Fri</td>\n",
       "      <td>20:44</td>\n",
       "      <td>Vinyl Theatre</td>\n",
       "      <td>My Fault</td>\n",
       "      <td>4638</td>\n",
       "      <td>0.077300</td>\n",
       "      <td>No</td>\n",
       "    </tr>\n",
       "  </tbody>\n",
       "</table>\n",
       "<p>10228 rows × 8 columns</p>\n",
       "</div>"
      ],
      "text/plain": [
       "                        date wkday   time           artistName  \\\n",
       "endTime                                                          \n",
       "2023-03-01 00:02  2023-03-01   Wed  00:02              J. Cole   \n",
       "2023-03-01 00:12  2023-03-01   Wed  00:12           Mac Miller   \n",
       "2023-03-01 01:10  2023-03-01   Wed  01:10                   RM   \n",
       "2023-03-01 01:14  2023-03-01   Wed  01:14  TOMORROW X TOGETHER   \n",
       "2023-03-01 01:18  2023-03-01   Wed  01:18             THE BOYZ   \n",
       "...                      ...   ...    ...                  ...   \n",
       "2024-03-01 20:40  2024-03-01   Fri  20:40        Hayley Kiyoko   \n",
       "2024-03-01 20:40  2024-03-01   Fri  20:40         Shawn Mendes   \n",
       "2024-03-01 20:44  2024-03-01   Fri  20:44              Tove Lo   \n",
       "2024-03-01 20:44  2024-03-01   Fri  20:44        King Princess   \n",
       "2024-03-01 20:44  2024-03-01   Fri  20:44        Vinyl Theatre   \n",
       "\n",
       "                                           trackName  msPlayed  minsPlayed  \\\n",
       "endTime                                                                      \n",
       "2023-03-01 00:02                      False Prophets    237426    3.957100   \n",
       "2023-03-01 00:12    Cinderella (feat. Ty Dolla $ign)      2376    0.039600   \n",
       "2023-03-01 01:10  Closer (with Paul Blanco, Mahalia)     50282    0.838033   \n",
       "2023-03-01 01:14                               CROWN    230706    3.845100   \n",
       "2023-03-01 01:18                            Giddy Up      1184    0.019733   \n",
       "...                                              ...       ...         ...   \n",
       "2024-03-01 20:40                           Sleepover      1927    0.032117   \n",
       "2024-03-01 20:40                       Lost In Japan      2252    0.037533   \n",
       "2024-03-01 20:44                       True Disaster      4551    0.075850   \n",
       "2024-03-01 20:44                                1950    225133    3.752217   \n",
       "2024-03-01 20:44                            My Fault      4638    0.077300   \n",
       "\n",
       "                 Include Song  \n",
       "endTime                        \n",
       "2023-03-01 00:02          Yes  \n",
       "2023-03-01 00:12           No  \n",
       "2023-03-01 01:10           No  \n",
       "2023-03-01 01:14          Yes  \n",
       "2023-03-01 01:18           No  \n",
       "...                       ...  \n",
       "2024-03-01 20:40           No  \n",
       "2024-03-01 20:40           No  \n",
       "2024-03-01 20:44           No  \n",
       "2024-03-01 20:44          Yes  \n",
       "2024-03-01 20:44           No  \n",
       "\n",
       "[10228 rows x 8 columns]"
      ]
     },
     "execution_count": 6,
     "metadata": {},
     "output_type": "execute_result"
    }
   ],
   "source": [
    "df = pd.read_excel('data/StreamingHistory0.json.xlsx', index_col = 0)\n",
    "df"
   ]
  },
  {
   "cell_type": "markdown",
   "id": "a88a9387-f6e2-477b-a4e0-1086c8a9a67b",
   "metadata": {},
   "source": [
    "The data started off with only 5 columns. I deleted one that didn't give any useful information and I was left with endTime, artistName, trackName, and msPlayed. I added date, wkday, and time based off of the information from endTime. Then minsPlayed was added based off of msPlayed, and lastly Inlcude Song was added to see if the minutes the song was played was either either above (Yes) or below (No) 2 minutes. All of these changes were made in excel."
   ]
  },
  {
   "cell_type": "code",
   "execution_count": 7,
   "id": "497a2461-532d-4e14-8d59-eeaa81de6201",
   "metadata": {},
   "outputs": [],
   "source": [
    "# Removing songs that weren't listened to for long enough to include\n",
    "skippedsongs = df[ df['Include Song'] == \"No\" ].index\n",
    "df.drop(skippedsongs, inplace = True)"
   ]
  },
  {
   "cell_type": "code",
   "execution_count": 8,
   "id": "b81b13f0-74ba-45cb-b790-6e0b1400496f",
   "metadata": {},
   "outputs": [
    {
     "data": {
      "text/html": [
       "<div>\n",
       "<style scoped>\n",
       "    .dataframe tbody tr th:only-of-type {\n",
       "        vertical-align: middle;\n",
       "    }\n",
       "\n",
       "    .dataframe tbody tr th {\n",
       "        vertical-align: top;\n",
       "    }\n",
       "\n",
       "    .dataframe thead th {\n",
       "        text-align: right;\n",
       "    }\n",
       "</style>\n",
       "<table border=\"1\" class=\"dataframe\">\n",
       "  <thead>\n",
       "    <tr style=\"text-align: right;\">\n",
       "      <th></th>\n",
       "      <th>date</th>\n",
       "      <th>wkday</th>\n",
       "      <th>time</th>\n",
       "      <th>artistName</th>\n",
       "      <th>trackName</th>\n",
       "      <th>msPlayed</th>\n",
       "      <th>minsPlayed</th>\n",
       "      <th>Include Song</th>\n",
       "    </tr>\n",
       "    <tr>\n",
       "      <th>endTime</th>\n",
       "      <th></th>\n",
       "      <th></th>\n",
       "      <th></th>\n",
       "      <th></th>\n",
       "      <th></th>\n",
       "      <th></th>\n",
       "      <th></th>\n",
       "      <th></th>\n",
       "    </tr>\n",
       "  </thead>\n",
       "  <tbody>\n",
       "    <tr>\n",
       "      <th>2023-03-01 00:02</th>\n",
       "      <td>2023-03-01</td>\n",
       "      <td>Wed</td>\n",
       "      <td>00:02</td>\n",
       "      <td>J. Cole</td>\n",
       "      <td>False Prophets</td>\n",
       "      <td>237426</td>\n",
       "      <td>3.957100</td>\n",
       "      <td>Yes</td>\n",
       "    </tr>\n",
       "    <tr>\n",
       "      <th>2023-03-01 01:14</th>\n",
       "      <td>2023-03-01</td>\n",
       "      <td>Wed</td>\n",
       "      <td>01:14</td>\n",
       "      <td>TOMORROW X TOGETHER</td>\n",
       "      <td>CROWN</td>\n",
       "      <td>230706</td>\n",
       "      <td>3.845100</td>\n",
       "      <td>Yes</td>\n",
       "    </tr>\n",
       "    <tr>\n",
       "      <th>2023-03-01 01:20</th>\n",
       "      <td>2023-03-01</td>\n",
       "      <td>Wed</td>\n",
       "      <td>01:20</td>\n",
       "      <td>NCT U</td>\n",
       "      <td>Light Bulb</td>\n",
       "      <td>142683</td>\n",
       "      <td>2.378050</td>\n",
       "      <td>Yes</td>\n",
       "    </tr>\n",
       "    <tr>\n",
       "      <th>2023-03-01 18:14</th>\n",
       "      <td>2023-03-01</td>\n",
       "      <td>Wed</td>\n",
       "      <td>18:14</td>\n",
       "      <td>THE BOYZ</td>\n",
       "      <td>Giddy Up</td>\n",
       "      <td>216947</td>\n",
       "      <td>3.615783</td>\n",
       "      <td>Yes</td>\n",
       "    </tr>\n",
       "    <tr>\n",
       "      <th>2023-03-01 18:17</th>\n",
       "      <td>2023-03-01</td>\n",
       "      <td>Wed</td>\n",
       "      <td>18:17</td>\n",
       "      <td>VIXX</td>\n",
       "      <td>Shangri-La</td>\n",
       "      <td>202268</td>\n",
       "      <td>3.371133</td>\n",
       "      <td>Yes</td>\n",
       "    </tr>\n",
       "    <tr>\n",
       "      <th>...</th>\n",
       "      <td>...</td>\n",
       "      <td>...</td>\n",
       "      <td>...</td>\n",
       "      <td>...</td>\n",
       "      <td>...</td>\n",
       "      <td>...</td>\n",
       "      <td>...</td>\n",
       "      <td>...</td>\n",
       "    </tr>\n",
       "    <tr>\n",
       "      <th>2024-03-01 00:47</th>\n",
       "      <td>2024-03-01</td>\n",
       "      <td>Fri</td>\n",
       "      <td>00:47</td>\n",
       "      <td>Arcángel</td>\n",
       "      <td>La Jumpa</td>\n",
       "      <td>255693</td>\n",
       "      <td>4.261550</td>\n",
       "      <td>Yes</td>\n",
       "    </tr>\n",
       "    <tr>\n",
       "      <th>2024-03-01 00:52</th>\n",
       "      <td>2024-03-01</td>\n",
       "      <td>Fri</td>\n",
       "      <td>00:52</td>\n",
       "      <td>KAROL G</td>\n",
       "      <td>QLONA</td>\n",
       "      <td>172797</td>\n",
       "      <td>2.879950</td>\n",
       "      <td>Yes</td>\n",
       "    </tr>\n",
       "    <tr>\n",
       "      <th>2024-03-01 00:56</th>\n",
       "      <td>2024-03-01</td>\n",
       "      <td>Fri</td>\n",
       "      <td>00:56</td>\n",
       "      <td>Zion &amp; Lennox</td>\n",
       "      <td>Yo Voy (feat. Daddy Yankee)</td>\n",
       "      <td>232019</td>\n",
       "      <td>3.866983</td>\n",
       "      <td>Yes</td>\n",
       "    </tr>\n",
       "    <tr>\n",
       "      <th>2024-03-01 01:00</th>\n",
       "      <td>2024-03-01</td>\n",
       "      <td>Fri</td>\n",
       "      <td>01:00</td>\n",
       "      <td>Farruko</td>\n",
       "      <td>Pepas</td>\n",
       "      <td>267840</td>\n",
       "      <td>4.464000</td>\n",
       "      <td>Yes</td>\n",
       "    </tr>\n",
       "    <tr>\n",
       "      <th>2024-03-01 20:37</th>\n",
       "      <td>2024-03-01</td>\n",
       "      <td>Fri</td>\n",
       "      <td>20:37</td>\n",
       "      <td>ROLE MODEL</td>\n",
       "      <td>blind</td>\n",
       "      <td>153293</td>\n",
       "      <td>2.554883</td>\n",
       "      <td>Yes</td>\n",
       "    </tr>\n",
       "  </tbody>\n",
       "</table>\n",
       "<p>5563 rows × 8 columns</p>\n",
       "</div>"
      ],
      "text/plain": [
       "                        date wkday   time           artistName  \\\n",
       "endTime                                                          \n",
       "2023-03-01 00:02  2023-03-01   Wed  00:02              J. Cole   \n",
       "2023-03-01 01:14  2023-03-01   Wed  01:14  TOMORROW X TOGETHER   \n",
       "2023-03-01 01:20  2023-03-01   Wed  01:20                NCT U   \n",
       "2023-03-01 18:14  2023-03-01   Wed  18:14             THE BOYZ   \n",
       "2023-03-01 18:17  2023-03-01   Wed  18:17                 VIXX   \n",
       "...                      ...   ...    ...                  ...   \n",
       "2024-03-01 00:47  2024-03-01   Fri  00:47             Arcángel   \n",
       "2024-03-01 00:52  2024-03-01   Fri  00:52              KAROL G   \n",
       "2024-03-01 00:56  2024-03-01   Fri  00:56        Zion & Lennox   \n",
       "2024-03-01 01:00  2024-03-01   Fri  01:00              Farruko   \n",
       "2024-03-01 20:37  2024-03-01   Fri  20:37           ROLE MODEL   \n",
       "\n",
       "                                    trackName  msPlayed  minsPlayed  \\\n",
       "endTime                                                               \n",
       "2023-03-01 00:02               False Prophets    237426    3.957100   \n",
       "2023-03-01 01:14                        CROWN    230706    3.845100   \n",
       "2023-03-01 01:20                   Light Bulb    142683    2.378050   \n",
       "2023-03-01 18:14                     Giddy Up    216947    3.615783   \n",
       "2023-03-01 18:17                   Shangri-La    202268    3.371133   \n",
       "...                                       ...       ...         ...   \n",
       "2024-03-01 00:47                     La Jumpa    255693    4.261550   \n",
       "2024-03-01 00:52                        QLONA    172797    2.879950   \n",
       "2024-03-01 00:56  Yo Voy (feat. Daddy Yankee)    232019    3.866983   \n",
       "2024-03-01 01:00                        Pepas    267840    4.464000   \n",
       "2024-03-01 20:37                        blind    153293    2.554883   \n",
       "\n",
       "                 Include Song  \n",
       "endTime                        \n",
       "2023-03-01 00:02          Yes  \n",
       "2023-03-01 01:14          Yes  \n",
       "2023-03-01 01:20          Yes  \n",
       "2023-03-01 18:14          Yes  \n",
       "2023-03-01 18:17          Yes  \n",
       "...                       ...  \n",
       "2024-03-01 00:47          Yes  \n",
       "2024-03-01 00:52          Yes  \n",
       "2024-03-01 00:56          Yes  \n",
       "2024-03-01 01:00          Yes  \n",
       "2024-03-01 20:37          Yes  \n",
       "\n",
       "[5563 rows x 8 columns]"
      ]
     },
     "execution_count": 8,
     "metadata": {},
     "output_type": "execute_result"
    }
   ],
   "source": [
    "# New data without the songs listened to for <2 mins\n",
    "df"
   ]
  },
  {
   "cell_type": "code",
   "execution_count": 9,
   "id": "18d34311-6065-44da-944e-8d844423448d",
   "metadata": {},
   "outputs": [
    {
     "data": {
      "text/plain": [
       "date            5563\n",
       "wkday           5563\n",
       "time            5563\n",
       "artistName      5563\n",
       "trackName       5563\n",
       "msPlayed        5563\n",
       "minsPlayed      5563\n",
       "Include Song    5563\n",
       "dtype: int64"
      ]
     },
     "execution_count": 9,
     "metadata": {},
     "output_type": "execute_result"
    }
   ],
   "source": [
    "# Value count of each variable in each column\n",
    "df.count()"
   ]
  },
  {
   "cell_type": "code",
   "execution_count": 10,
   "id": "a8418b58-274c-43df-a95f-e4fe786f1620",
   "metadata": {},
   "outputs": [
    {
     "name": "stdout",
     "output_type": "stream",
     "text": [
      "(5563, 8)\n"
     ]
    }
   ],
   "source": [
    "# Shape of the dataset (rows, cols)\n",
    "print(df.shape)"
   ]
  },
  {
   "cell_type": "markdown",
   "id": "2c58282c-b0ea-40f5-930b-ca2229ca9a37",
   "metadata": {},
   "source": [
    "# Goal: What day of the week are songs streamed most?"
   ]
  },
  {
   "cell_type": "code",
   "execution_count": 11,
   "id": "3908a558-51da-4a1a-996e-f852364c6342",
   "metadata": {},
   "outputs": [
    {
     "data": {
      "text/html": [
       "<div>\n",
       "<style scoped>\n",
       "    .dataframe tbody tr th:only-of-type {\n",
       "        vertical-align: middle;\n",
       "    }\n",
       "\n",
       "    .dataframe tbody tr th {\n",
       "        vertical-align: top;\n",
       "    }\n",
       "\n",
       "    .dataframe thead th {\n",
       "        text-align: right;\n",
       "    }\n",
       "</style>\n",
       "<table border=\"1\" class=\"dataframe\">\n",
       "  <thead>\n",
       "    <tr style=\"text-align: right;\">\n",
       "      <th></th>\n",
       "      <th>date</th>\n",
       "      <th>wkday</th>\n",
       "      <th>minsPlayed</th>\n",
       "    </tr>\n",
       "    <tr>\n",
       "      <th>endTime</th>\n",
       "      <th></th>\n",
       "      <th></th>\n",
       "      <th></th>\n",
       "    </tr>\n",
       "  </thead>\n",
       "  <tbody>\n",
       "    <tr>\n",
       "      <th>2023-03-01 00:02</th>\n",
       "      <td>2023-03-01</td>\n",
       "      <td>Wed</td>\n",
       "      <td>3.957100</td>\n",
       "    </tr>\n",
       "    <tr>\n",
       "      <th>2023-03-01 01:14</th>\n",
       "      <td>2023-03-01</td>\n",
       "      <td>Wed</td>\n",
       "      <td>3.845100</td>\n",
       "    </tr>\n",
       "    <tr>\n",
       "      <th>2023-03-01 01:20</th>\n",
       "      <td>2023-03-01</td>\n",
       "      <td>Wed</td>\n",
       "      <td>2.378050</td>\n",
       "    </tr>\n",
       "    <tr>\n",
       "      <th>2023-03-01 18:14</th>\n",
       "      <td>2023-03-01</td>\n",
       "      <td>Wed</td>\n",
       "      <td>3.615783</td>\n",
       "    </tr>\n",
       "    <tr>\n",
       "      <th>2023-03-01 18:17</th>\n",
       "      <td>2023-03-01</td>\n",
       "      <td>Wed</td>\n",
       "      <td>3.371133</td>\n",
       "    </tr>\n",
       "    <tr>\n",
       "      <th>...</th>\n",
       "      <td>...</td>\n",
       "      <td>...</td>\n",
       "      <td>...</td>\n",
       "    </tr>\n",
       "    <tr>\n",
       "      <th>2024-03-01 00:47</th>\n",
       "      <td>2024-03-01</td>\n",
       "      <td>Fri</td>\n",
       "      <td>4.261550</td>\n",
       "    </tr>\n",
       "    <tr>\n",
       "      <th>2024-03-01 00:52</th>\n",
       "      <td>2024-03-01</td>\n",
       "      <td>Fri</td>\n",
       "      <td>2.879950</td>\n",
       "    </tr>\n",
       "    <tr>\n",
       "      <th>2024-03-01 00:56</th>\n",
       "      <td>2024-03-01</td>\n",
       "      <td>Fri</td>\n",
       "      <td>3.866983</td>\n",
       "    </tr>\n",
       "    <tr>\n",
       "      <th>2024-03-01 01:00</th>\n",
       "      <td>2024-03-01</td>\n",
       "      <td>Fri</td>\n",
       "      <td>4.464000</td>\n",
       "    </tr>\n",
       "    <tr>\n",
       "      <th>2024-03-01 20:37</th>\n",
       "      <td>2024-03-01</td>\n",
       "      <td>Fri</td>\n",
       "      <td>2.554883</td>\n",
       "    </tr>\n",
       "  </tbody>\n",
       "</table>\n",
       "<p>5563 rows × 3 columns</p>\n",
       "</div>"
      ],
      "text/plain": [
       "                        date wkday  minsPlayed\n",
       "endTime                                       \n",
       "2023-03-01 00:02  2023-03-01   Wed    3.957100\n",
       "2023-03-01 01:14  2023-03-01   Wed    3.845100\n",
       "2023-03-01 01:20  2023-03-01   Wed    2.378050\n",
       "2023-03-01 18:14  2023-03-01   Wed    3.615783\n",
       "2023-03-01 18:17  2023-03-01   Wed    3.371133\n",
       "...                      ...   ...         ...\n",
       "2024-03-01 00:47  2024-03-01   Fri    4.261550\n",
       "2024-03-01 00:52  2024-03-01   Fri    2.879950\n",
       "2024-03-01 00:56  2024-03-01   Fri    3.866983\n",
       "2024-03-01 01:00  2024-03-01   Fri    4.464000\n",
       "2024-03-01 20:37  2024-03-01   Fri    2.554883\n",
       "\n",
       "[5563 rows x 3 columns]"
      ]
     },
     "execution_count": 11,
     "metadata": {},
     "output_type": "execute_result"
    }
   ],
   "source": [
    "# Select columns\n",
    "df[['date', 'wkday', 'minsPlayed']]"
   ]
  },
  {
   "cell_type": "code",
   "execution_count": 12,
   "id": "2e3d6025-ae81-4a68-bdf3-2ecad01dac3f",
   "metadata": {},
   "outputs": [],
   "source": [
    "# Assign variable for order of weekdays for visual purposes\n",
    "day = ['Sun', 'Mon', 'Tues', 'Wed', 'Thurs', 'Fri', 'Sat']"
   ]
  },
  {
   "cell_type": "code",
   "execution_count": 13,
   "id": "c636ee47-c88e-4f62-bc2a-d1dcb78a5fc6",
   "metadata": {},
   "outputs": [
    {
     "data": {
      "text/plain": [
       "wkday\n",
       "Sun      1548.573633\n",
       "Mon      2572.431500\n",
       "Tues     2719.567283\n",
       "Wed      3296.436383\n",
       "Thurs    2394.369300\n",
       "Fri      2398.260233\n",
       "Sat      3370.273317\n",
       "Name: minsPlayed, dtype: float64"
      ]
     },
     "execution_count": 13,
     "metadata": {},
     "output_type": "execute_result"
    }
   ],
   "source": [
    "# Count minutes played for each day of the week\n",
    "mins = df.groupby('wkday')['minsPlayed'].sum().reindex(day)\n",
    "mins"
   ]
  },
  {
   "cell_type": "code",
   "execution_count": 14,
   "id": "eaaf8ee9-23fd-45fd-93ff-be418224469d",
   "metadata": {},
   "outputs": [
    {
     "data": {
      "application/vnd.plotly.v1+json": {
       "config": {
        "plotlyServerURL": "https://plot.ly"
       },
       "data": [
        {
         "hovertemplate": "Minutes: %{y}<br>Day: %{x}",
         "legendgroup": "minsPlayed",
         "line": {
          "color": "#191414",
          "dash": "solid"
         },
         "marker": {
          "color": "#1DB954",
          "symbol": "circle"
         },
         "mode": "lines+markers",
         "name": "minsPlayed",
         "orientation": "v",
         "showlegend": true,
         "type": "scatter",
         "x": [
          "Sun",
          "Mon",
          "Tues",
          "Wed",
          "Thurs",
          "Fri",
          "Sat"
         ],
         "xaxis": "x",
         "y": [
          1548.5736333333334,
          2572.4315,
          2719.5672833333333,
          3296.436383333333,
          2394.3693,
          2398.2602333333334,
          3370.2733166666667
         ],
         "yaxis": "y"
        }
       ],
       "layout": {
        "height": 400,
        "legend": {
         "title": {
          "text": "variable"
         },
         "tracegroupgap": 0
        },
        "showlegend": false,
        "template": {
         "data": {
          "bar": [
           {
            "error_x": {
             "color": "#2a3f5f"
            },
            "error_y": {
             "color": "#2a3f5f"
            },
            "marker": {
             "line": {
              "color": "white",
              "width": 0.5
             },
             "pattern": {
              "fillmode": "overlay",
              "size": 10,
              "solidity": 0.2
             }
            },
            "type": "bar"
           }
          ],
          "barpolar": [
           {
            "marker": {
             "line": {
              "color": "white",
              "width": 0.5
             },
             "pattern": {
              "fillmode": "overlay",
              "size": 10,
              "solidity": 0.2
             }
            },
            "type": "barpolar"
           }
          ],
          "carpet": [
           {
            "aaxis": {
             "endlinecolor": "#2a3f5f",
             "gridcolor": "#C8D4E3",
             "linecolor": "#C8D4E3",
             "minorgridcolor": "#C8D4E3",
             "startlinecolor": "#2a3f5f"
            },
            "baxis": {
             "endlinecolor": "#2a3f5f",
             "gridcolor": "#C8D4E3",
             "linecolor": "#C8D4E3",
             "minorgridcolor": "#C8D4E3",
             "startlinecolor": "#2a3f5f"
            },
            "type": "carpet"
           }
          ],
          "choropleth": [
           {
            "colorbar": {
             "outlinewidth": 0,
             "ticks": ""
            },
            "type": "choropleth"
           }
          ],
          "contour": [
           {
            "colorbar": {
             "outlinewidth": 0,
             "ticks": ""
            },
            "colorscale": [
             [
              0,
              "#0d0887"
             ],
             [
              0.1111111111111111,
              "#46039f"
             ],
             [
              0.2222222222222222,
              "#7201a8"
             ],
             [
              0.3333333333333333,
              "#9c179e"
             ],
             [
              0.4444444444444444,
              "#bd3786"
             ],
             [
              0.5555555555555556,
              "#d8576b"
             ],
             [
              0.6666666666666666,
              "#ed7953"
             ],
             [
              0.7777777777777778,
              "#fb9f3a"
             ],
             [
              0.8888888888888888,
              "#fdca26"
             ],
             [
              1,
              "#f0f921"
             ]
            ],
            "type": "contour"
           }
          ],
          "contourcarpet": [
           {
            "colorbar": {
             "outlinewidth": 0,
             "ticks": ""
            },
            "type": "contourcarpet"
           }
          ],
          "heatmap": [
           {
            "colorbar": {
             "outlinewidth": 0,
             "ticks": ""
            },
            "colorscale": [
             [
              0,
              "#0d0887"
             ],
             [
              0.1111111111111111,
              "#46039f"
             ],
             [
              0.2222222222222222,
              "#7201a8"
             ],
             [
              0.3333333333333333,
              "#9c179e"
             ],
             [
              0.4444444444444444,
              "#bd3786"
             ],
             [
              0.5555555555555556,
              "#d8576b"
             ],
             [
              0.6666666666666666,
              "#ed7953"
             ],
             [
              0.7777777777777778,
              "#fb9f3a"
             ],
             [
              0.8888888888888888,
              "#fdca26"
             ],
             [
              1,
              "#f0f921"
             ]
            ],
            "type": "heatmap"
           }
          ],
          "heatmapgl": [
           {
            "colorbar": {
             "outlinewidth": 0,
             "ticks": ""
            },
            "colorscale": [
             [
              0,
              "#0d0887"
             ],
             [
              0.1111111111111111,
              "#46039f"
             ],
             [
              0.2222222222222222,
              "#7201a8"
             ],
             [
              0.3333333333333333,
              "#9c179e"
             ],
             [
              0.4444444444444444,
              "#bd3786"
             ],
             [
              0.5555555555555556,
              "#d8576b"
             ],
             [
              0.6666666666666666,
              "#ed7953"
             ],
             [
              0.7777777777777778,
              "#fb9f3a"
             ],
             [
              0.8888888888888888,
              "#fdca26"
             ],
             [
              1,
              "#f0f921"
             ]
            ],
            "type": "heatmapgl"
           }
          ],
          "histogram": [
           {
            "marker": {
             "pattern": {
              "fillmode": "overlay",
              "size": 10,
              "solidity": 0.2
             }
            },
            "type": "histogram"
           }
          ],
          "histogram2d": [
           {
            "colorbar": {
             "outlinewidth": 0,
             "ticks": ""
            },
            "colorscale": [
             [
              0,
              "#0d0887"
             ],
             [
              0.1111111111111111,
              "#46039f"
             ],
             [
              0.2222222222222222,
              "#7201a8"
             ],
             [
              0.3333333333333333,
              "#9c179e"
             ],
             [
              0.4444444444444444,
              "#bd3786"
             ],
             [
              0.5555555555555556,
              "#d8576b"
             ],
             [
              0.6666666666666666,
              "#ed7953"
             ],
             [
              0.7777777777777778,
              "#fb9f3a"
             ],
             [
              0.8888888888888888,
              "#fdca26"
             ],
             [
              1,
              "#f0f921"
             ]
            ],
            "type": "histogram2d"
           }
          ],
          "histogram2dcontour": [
           {
            "colorbar": {
             "outlinewidth": 0,
             "ticks": ""
            },
            "colorscale": [
             [
              0,
              "#0d0887"
             ],
             [
              0.1111111111111111,
              "#46039f"
             ],
             [
              0.2222222222222222,
              "#7201a8"
             ],
             [
              0.3333333333333333,
              "#9c179e"
             ],
             [
              0.4444444444444444,
              "#bd3786"
             ],
             [
              0.5555555555555556,
              "#d8576b"
             ],
             [
              0.6666666666666666,
              "#ed7953"
             ],
             [
              0.7777777777777778,
              "#fb9f3a"
             ],
             [
              0.8888888888888888,
              "#fdca26"
             ],
             [
              1,
              "#f0f921"
             ]
            ],
            "type": "histogram2dcontour"
           }
          ],
          "mesh3d": [
           {
            "colorbar": {
             "outlinewidth": 0,
             "ticks": ""
            },
            "type": "mesh3d"
           }
          ],
          "parcoords": [
           {
            "line": {
             "colorbar": {
              "outlinewidth": 0,
              "ticks": ""
             }
            },
            "type": "parcoords"
           }
          ],
          "pie": [
           {
            "automargin": true,
            "type": "pie"
           }
          ],
          "scatter": [
           {
            "fillpattern": {
             "fillmode": "overlay",
             "size": 10,
             "solidity": 0.2
            },
            "type": "scatter"
           }
          ],
          "scatter3d": [
           {
            "line": {
             "colorbar": {
              "outlinewidth": 0,
              "ticks": ""
             }
            },
            "marker": {
             "colorbar": {
              "outlinewidth": 0,
              "ticks": ""
             }
            },
            "type": "scatter3d"
           }
          ],
          "scattercarpet": [
           {
            "marker": {
             "colorbar": {
              "outlinewidth": 0,
              "ticks": ""
             }
            },
            "type": "scattercarpet"
           }
          ],
          "scattergeo": [
           {
            "marker": {
             "colorbar": {
              "outlinewidth": 0,
              "ticks": ""
             }
            },
            "type": "scattergeo"
           }
          ],
          "scattergl": [
           {
            "marker": {
             "colorbar": {
              "outlinewidth": 0,
              "ticks": ""
             }
            },
            "type": "scattergl"
           }
          ],
          "scattermapbox": [
           {
            "marker": {
             "colorbar": {
              "outlinewidth": 0,
              "ticks": ""
             }
            },
            "type": "scattermapbox"
           }
          ],
          "scatterpolar": [
           {
            "marker": {
             "colorbar": {
              "outlinewidth": 0,
              "ticks": ""
             }
            },
            "type": "scatterpolar"
           }
          ],
          "scatterpolargl": [
           {
            "marker": {
             "colorbar": {
              "outlinewidth": 0,
              "ticks": ""
             }
            },
            "type": "scatterpolargl"
           }
          ],
          "scatterternary": [
           {
            "marker": {
             "colorbar": {
              "outlinewidth": 0,
              "ticks": ""
             }
            },
            "type": "scatterternary"
           }
          ],
          "surface": [
           {
            "colorbar": {
             "outlinewidth": 0,
             "ticks": ""
            },
            "colorscale": [
             [
              0,
              "#0d0887"
             ],
             [
              0.1111111111111111,
              "#46039f"
             ],
             [
              0.2222222222222222,
              "#7201a8"
             ],
             [
              0.3333333333333333,
              "#9c179e"
             ],
             [
              0.4444444444444444,
              "#bd3786"
             ],
             [
              0.5555555555555556,
              "#d8576b"
             ],
             [
              0.6666666666666666,
              "#ed7953"
             ],
             [
              0.7777777777777778,
              "#fb9f3a"
             ],
             [
              0.8888888888888888,
              "#fdca26"
             ],
             [
              1,
              "#f0f921"
             ]
            ],
            "type": "surface"
           }
          ],
          "table": [
           {
            "cells": {
             "fill": {
              "color": "#EBF0F8"
             },
             "line": {
              "color": "white"
             }
            },
            "header": {
             "fill": {
              "color": "#C8D4E3"
             },
             "line": {
              "color": "white"
             }
            },
            "type": "table"
           }
          ]
         },
         "layout": {
          "annotationdefaults": {
           "arrowcolor": "#2a3f5f",
           "arrowhead": 0,
           "arrowwidth": 1
          },
          "autotypenumbers": "strict",
          "coloraxis": {
           "colorbar": {
            "outlinewidth": 0,
            "ticks": ""
           }
          },
          "colorscale": {
           "diverging": [
            [
             0,
             "#8e0152"
            ],
            [
             0.1,
             "#c51b7d"
            ],
            [
             0.2,
             "#de77ae"
            ],
            [
             0.3,
             "#f1b6da"
            ],
            [
             0.4,
             "#fde0ef"
            ],
            [
             0.5,
             "#f7f7f7"
            ],
            [
             0.6,
             "#e6f5d0"
            ],
            [
             0.7,
             "#b8e186"
            ],
            [
             0.8,
             "#7fbc41"
            ],
            [
             0.9,
             "#4d9221"
            ],
            [
             1,
             "#276419"
            ]
           ],
           "sequential": [
            [
             0,
             "#0d0887"
            ],
            [
             0.1111111111111111,
             "#46039f"
            ],
            [
             0.2222222222222222,
             "#7201a8"
            ],
            [
             0.3333333333333333,
             "#9c179e"
            ],
            [
             0.4444444444444444,
             "#bd3786"
            ],
            [
             0.5555555555555556,
             "#d8576b"
            ],
            [
             0.6666666666666666,
             "#ed7953"
            ],
            [
             0.7777777777777778,
             "#fb9f3a"
            ],
            [
             0.8888888888888888,
             "#fdca26"
            ],
            [
             1,
             "#f0f921"
            ]
           ],
           "sequentialminus": [
            [
             0,
             "#0d0887"
            ],
            [
             0.1111111111111111,
             "#46039f"
            ],
            [
             0.2222222222222222,
             "#7201a8"
            ],
            [
             0.3333333333333333,
             "#9c179e"
            ],
            [
             0.4444444444444444,
             "#bd3786"
            ],
            [
             0.5555555555555556,
             "#d8576b"
            ],
            [
             0.6666666666666666,
             "#ed7953"
            ],
            [
             0.7777777777777778,
             "#fb9f3a"
            ],
            [
             0.8888888888888888,
             "#fdca26"
            ],
            [
             1,
             "#f0f921"
            ]
           ]
          },
          "colorway": [
           "#636efa",
           "#EF553B",
           "#00cc96",
           "#ab63fa",
           "#FFA15A",
           "#19d3f3",
           "#FF6692",
           "#B6E880",
           "#FF97FF",
           "#FECB52"
          ],
          "font": {
           "color": "#2a3f5f"
          },
          "geo": {
           "bgcolor": "white",
           "lakecolor": "white",
           "landcolor": "white",
           "showlakes": true,
           "showland": true,
           "subunitcolor": "#C8D4E3"
          },
          "hoverlabel": {
           "align": "left"
          },
          "hovermode": "closest",
          "mapbox": {
           "style": "light"
          },
          "paper_bgcolor": "white",
          "plot_bgcolor": "white",
          "polar": {
           "angularaxis": {
            "gridcolor": "#EBF0F8",
            "linecolor": "#EBF0F8",
            "ticks": ""
           },
           "bgcolor": "white",
           "radialaxis": {
            "gridcolor": "#EBF0F8",
            "linecolor": "#EBF0F8",
            "ticks": ""
           }
          },
          "scene": {
           "xaxis": {
            "backgroundcolor": "white",
            "gridcolor": "#DFE8F3",
            "gridwidth": 2,
            "linecolor": "#EBF0F8",
            "showbackground": true,
            "ticks": "",
            "zerolinecolor": "#EBF0F8"
           },
           "yaxis": {
            "backgroundcolor": "white",
            "gridcolor": "#DFE8F3",
            "gridwidth": 2,
            "linecolor": "#EBF0F8",
            "showbackground": true,
            "ticks": "",
            "zerolinecolor": "#EBF0F8"
           },
           "zaxis": {
            "backgroundcolor": "white",
            "gridcolor": "#DFE8F3",
            "gridwidth": 2,
            "linecolor": "#EBF0F8",
            "showbackground": true,
            "ticks": "",
            "zerolinecolor": "#EBF0F8"
           }
          },
          "shapedefaults": {
           "line": {
            "color": "#2a3f5f"
           }
          },
          "ternary": {
           "aaxis": {
            "gridcolor": "#DFE8F3",
            "linecolor": "#A2B1C6",
            "ticks": ""
           },
           "baxis": {
            "gridcolor": "#DFE8F3",
            "linecolor": "#A2B1C6",
            "ticks": ""
           },
           "bgcolor": "white",
           "caxis": {
            "gridcolor": "#DFE8F3",
            "linecolor": "#A2B1C6",
            "ticks": ""
           }
          },
          "title": {
           "x": 0.05
          },
          "xaxis": {
           "automargin": true,
           "gridcolor": "#EBF0F8",
           "linecolor": "#EBF0F8",
           "ticks": "",
           "title": {
            "standoff": 15
           },
           "zerolinecolor": "#EBF0F8",
           "zerolinewidth": 2
          },
          "yaxis": {
           "automargin": true,
           "gridcolor": "#EBF0F8",
           "linecolor": "#EBF0F8",
           "ticks": "",
           "title": {
            "standoff": 15
           },
           "zerolinecolor": "#EBF0F8",
           "zerolinewidth": 2
          }
         }
        },
        "title": {
         "text": "Total Minutes Listened per Day"
        },
        "width": 800,
        "xaxis": {
         "anchor": "y",
         "autorange": true,
         "domain": [
          0,
          1
         ],
         "range": [
          -0.37730870712401055,
          6.37730870712401
         ],
         "title": {
          "text": "Weekday"
         },
         "type": "category"
        },
        "yaxis": {
         "anchor": "x",
         "autorange": true,
         "domain": [
          0,
          1
         ],
         "range": [
          1407.523395384952,
          3511.323554615048
         ],
         "title": {
          "text": "Minutes Listened"
         },
         "type": "linear"
        }
       }
      },
      "image/png": "[encoded data removed]"
     },
     "metadata": {},
     "output_type": "display_data"
    }
   ],
   "source": [
    "# Create graph to display minutes listened for each day\n",
    "fig = px.line(df.groupby('wkday')['minsPlayed'].sum().reindex(day), \n",
    "                 labels={'index': 'Day', 'value': 'Minutes Listened'},\n",
    "                 title='Total Minutes Listened per Day',\n",
    "                 color_discrete_sequence=['Green'],\n",
    "                 template='plotly_white', \n",
    "                 markers=True)  # Use a white background template\n",
    "fig.update_layout(xaxis_title='Weekday', height=400, width=800, showlegend=False)\n",
    "fig.update_traces(line_color='#191414', marker_color='#1DB954', hovertemplate='Minutes: %{y}<br>Day: %{x}')\n",
    "fig.show()"
   ]
  },
  {
   "cell_type": "markdown",
   "id": "471240fe-9afd-4300-8de0-0dac46e8a07d",
   "metadata": {},
   "source": [
    "Findings: We can see that my most litened to days were Wednesday and Saturday. It seems that my music listening peaked during the middle of the week and at the beginning of the weekend. "
   ]
  },
  {
   "cell_type": "markdown",
   "id": "f30d4567-581b-4e52-bc8a-63601cf0e0aa",
   "metadata": {},
   "source": [
    "# Goal: Top 10 Most Streamed Songs"
   ]
  },
  {
   "cell_type": "code",
   "execution_count": 15,
   "id": "f593744e-234c-4452-ad54-eacefdf2d906",
   "metadata": {},
   "outputs": [
    {
     "data": {
      "text/plain": [
       "trackName\n",
       "Fantasmas                  25\n",
       "WHERE SHE GOES             24\n",
       "BESO                       21\n",
       "un x100to                  19\n",
       "CORAZÓN VACÍO              19\n",
       "                           ..\n",
       "Icon                        1\n",
       "J'ai encore rêvé de toi     1\n",
       "Ass propos                  1\n",
       "sisyphe                     1\n",
       "Vacation (Feat. SOLE)       1\n",
       "Name: count, Length: 2652, dtype: int64"
      ]
     },
     "execution_count": 15,
     "metadata": {},
     "output_type": "execute_result"
    }
   ],
   "source": [
    "# See number of times each track appears in the dataset\n",
    "pd.Series(df['trackName']).value_counts()"
   ]
  },
  {
   "cell_type": "code",
   "execution_count": 16,
   "id": "b33b410a-2610-4616-9d3b-b48beae520bf",
   "metadata": {},
   "outputs": [
    {
     "data": {
      "text/plain": [
       "trackName\n",
       "Fantasmas                                25\n",
       "WHERE SHE GOES                           24\n",
       "BESO                                     21\n",
       "un x100to                                19\n",
       "CORAZÓN VACÍO                            19\n",
       "Shakira: Bzrp Music Sessions, Vol. 53    19\n",
       "TQG                                      18\n",
       "Bonnie & Clyde                           17\n",
       "EVITA!                                   16\n",
       "Nonsense                                 16\n",
       "Name: count, dtype: int64"
      ]
     },
     "execution_count": 16,
     "metadata": {},
     "output_type": "execute_result"
    }
   ],
   "source": [
    "# Display only the first 10 tracks in the \"trackName\" column\n",
    "pd.Series(df['trackName']).value_counts().head(10)"
   ]
  },
  {
   "cell_type": "code",
   "execution_count": 17,
   "id": "845a11c4-46e3-4f6f-8ec4-bcb610122f65",
   "metadata": {},
   "outputs": [
    {
     "data": {
      "application/vnd.plotly.v1+json": {
       "config": {
        "plotlyServerURL": "https://plot.ly"
       },
       "data": [
        {
         "alignmentgroup": "True",
         "hovertemplate": "Count: %{y}<br>Song: %{x}",
         "legendgroup": "count",
         "marker": {
          "color": "#1DB954",
          "pattern": {
           "shape": ""
          }
         },
         "name": "count",
         "offsetgroup": "count",
         "orientation": "v",
         "showlegend": true,
         "textposition": "auto",
         "type": "bar",
         "x": [
          "Fantasmas",
          "WHERE SHE GOES",
          "BESO",
          "un x100to",
          "CORAZÓN VACÍO",
          "Shakira: Bzrp Music Sessions, Vol. 53",
          "TQG",
          "Bonnie & Clyde",
          "EVITA!",
          "Nonsense"
         ],
         "xaxis": "x",
         "y": [
          25,
          24,
          21,
          19,
          19,
          19,
          18,
          17,
          16,
          16
         ],
         "yaxis": "y"
        }
       ],
       "layout": {
        "barmode": "relative",
        "height": 600,
        "legend": {
         "title": {
          "text": "variable"
         },
         "tracegroupgap": 0
        },
        "showlegend": false,
        "template": {
         "data": {
          "bar": [
           {
            "error_x": {
             "color": "#2a3f5f"
            },
            "error_y": {
             "color": "#2a3f5f"
            },
            "marker": {
             "line": {
              "color": "#E5ECF6",
              "width": 0.5
             },
             "pattern": {
              "fillmode": "overlay",
              "size": 10,
              "solidity": 0.2
             }
            },
            "type": "bar"
           }
          ],
          "barpolar": [
           {
            "marker": {
             "line": {
              "color": "#E5ECF6",
              "width": 0.5
             },
             "pattern": {
              "fillmode": "overlay",
              "size": 10,
              "solidity": 0.2
             }
            },
            "type": "barpolar"
           }
          ],
          "carpet": [
           {
            "aaxis": {
             "endlinecolor": "#2a3f5f",
             "gridcolor": "white",
             "linecolor": "white",
             "minorgridcolor": "white",
             "startlinecolor": "#2a3f5f"
            },
            "baxis": {
             "endlinecolor": "#2a3f5f",
             "gridcolor": "white",
             "linecolor": "white",
             "minorgridcolor": "white",
             "startlinecolor": "#2a3f5f"
            },
            "type": "carpet"
           }
          ],
          "choropleth": [
           {
            "colorbar": {
             "outlinewidth": 0,
             "ticks": ""
            },
            "type": "choropleth"
           }
          ],
          "contour": [
           {
            "colorbar": {
             "outlinewidth": 0,
             "ticks": ""
            },
            "colorscale": [
             [
              0,
              "#0d0887"
             ],
             [
              0.1111111111111111,
              "#46039f"
             ],
             [
              0.2222222222222222,
              "#7201a8"
             ],
             [
              0.3333333333333333,
              "#9c179e"
             ],
             [
              0.4444444444444444,
              "#bd3786"
             ],
             [
              0.5555555555555556,
              "#d8576b"
             ],
             [
              0.6666666666666666,
              "#ed7953"
             ],
             [
              0.7777777777777778,
              "#fb9f3a"
             ],
             [
              0.8888888888888888,
              "#fdca26"
             ],
             [
              1,
              "#f0f921"
             ]
            ],
            "type": "contour"
           }
          ],
          "contourcarpet": [
           {
            "colorbar": {
             "outlinewidth": 0,
             "ticks": ""
            },
            "type": "contourcarpet"
           }
          ],
          "heatmap": [
           {
            "colorbar": {
             "outlinewidth": 0,
             "ticks": ""
            },
            "colorscale": [
             [
              0,
              "#0d0887"
             ],
             [
              0.1111111111111111,
              "#46039f"
             ],
             [
              0.2222222222222222,
              "#7201a8"
             ],
             [
              0.3333333333333333,
              "#9c179e"
             ],
             [
              0.4444444444444444,
              "#bd3786"
             ],
             [
              0.5555555555555556,
              "#d8576b"
             ],
             [
              0.6666666666666666,
              "#ed7953"
             ],
             [
              0.7777777777777778,
              "#fb9f3a"
             ],
             [
              0.8888888888888888,
              "#fdca26"
             ],
             [
              1,
              "#f0f921"
             ]
            ],
            "type": "heatmap"
           }
          ],
          "heatmapgl": [
           {
            "colorbar": {
             "outlinewidth": 0,
             "ticks": ""
            },
            "colorscale": [
             [
              0,
              "#0d0887"
             ],
             [
              0.1111111111111111,
              "#46039f"
             ],
             [
              0.2222222222222222,
              "#7201a8"
             ],
             [
              0.3333333333333333,
              "#9c179e"
             ],
             [
              0.4444444444444444,
              "#bd3786"
             ],
             [
              0.5555555555555556,
              "#d8576b"
             ],
             [
              0.6666666666666666,
              "#ed7953"
             ],
             [
              0.7777777777777778,
              "#fb9f3a"
             ],
             [
              0.8888888888888888,
              "#fdca26"
             ],
             [
              1,
              "#f0f921"
             ]
            ],
            "type": "heatmapgl"
           }
          ],
          "histogram": [
           {
            "marker": {
             "pattern": {
              "fillmode": "overlay",
              "size": 10,
              "solidity": 0.2
             }
            },
            "type": "histogram"
           }
          ],
          "histogram2d": [
           {
            "colorbar": {
             "outlinewidth": 0,
             "ticks": ""
            },
            "colorscale": [
             [
              0,
              "#0d0887"
             ],
             [
              0.1111111111111111,
              "#46039f"
             ],
             [
              0.2222222222222222,
              "#7201a8"
             ],
             [
              0.3333333333333333,
              "#9c179e"
             ],
             [
              0.4444444444444444,
              "#bd3786"
             ],
             [
              0.5555555555555556,
              "#d8576b"
             ],
             [
              0.6666666666666666,
              "#ed7953"
             ],
             [
              0.7777777777777778,
              "#fb9f3a"
             ],
             [
              0.8888888888888888,
              "#fdca26"
             ],
             [
              1,
              "#f0f921"
             ]
            ],
            "type": "histogram2d"
           }
          ],
          "histogram2dcontour": [
           {
            "colorbar": {
             "outlinewidth": 0,
             "ticks": ""
            },
            "colorscale": [
             [
              0,
              "#0d0887"
             ],
             [
              0.1111111111111111,
              "#46039f"
             ],
             [
              0.2222222222222222,
              "#7201a8"
             ],
             [
              0.3333333333333333,
              "#9c179e"
             ],
             [
              0.4444444444444444,
              "#bd3786"
             ],
             [
              0.5555555555555556,
              "#d8576b"
             ],
             [
              0.6666666666666666,
              "#ed7953"
             ],
             [
              0.7777777777777778,
              "#fb9f3a"
             ],
             [
              0.8888888888888888,
              "#fdca26"
             ],
             [
              1,
              "#f0f921"
             ]
            ],
            "type": "histogram2dcontour"
           }
          ],
          "mesh3d": [
           {
            "colorbar": {
             "outlinewidth": 0,
             "ticks": ""
            },
            "type": "mesh3d"
           }
          ],
          "parcoords": [
           {
            "line": {
             "colorbar": {
              "outlinewidth": 0,
              "ticks": ""
             }
            },
            "type": "parcoords"
           }
          ],
          "pie": [
           {
            "automargin": true,
            "type": "pie"
           }
          ],
          "scatter": [
           {
            "fillpattern": {
             "fillmode": "overlay",
             "size": 10,
             "solidity": 0.2
            },
            "type": "scatter"
           }
          ],
          "scatter3d": [
           {
            "line": {
             "colorbar": {
              "outlinewidth": 0,
              "ticks": ""
             }
            },
            "marker": {
             "colorbar": {
              "outlinewidth": 0,
              "ticks": ""
             }
            },
            "type": "scatter3d"
           }
          ],
          "scattercarpet": [
           {
            "marker": {
             "colorbar": {
              "outlinewidth": 0,
              "ticks": ""
             }
            },
            "type": "scattercarpet"
           }
          ],
          "scattergeo": [
           {
            "marker": {
             "colorbar": {
              "outlinewidth": 0,
              "ticks": ""
             }
            },
            "type": "scattergeo"
           }
          ],
          "scattergl": [
           {
            "marker": {
             "colorbar": {
              "outlinewidth": 0,
              "ticks": ""
             }
            },
            "type": "scattergl"
           }
          ],
          "scattermapbox": [
           {
            "marker": {
             "colorbar": {
              "outlinewidth": 0,
              "ticks": ""
             }
            },
            "type": "scattermapbox"
           }
          ],
          "scatterpolar": [
           {
            "marker": {
             "colorbar": {
              "outlinewidth": 0,
              "ticks": ""
             }
            },
            "type": "scatterpolar"
           }
          ],
          "scatterpolargl": [
           {
            "marker": {
             "colorbar": {
              "outlinewidth": 0,
              "ticks": ""
             }
            },
            "type": "scatterpolargl"
           }
          ],
          "scatterternary": [
           {
            "marker": {
             "colorbar": {
              "outlinewidth": 0,
              "ticks": ""
             }
            },
            "type": "scatterternary"
           }
          ],
          "surface": [
           {
            "colorbar": {
             "outlinewidth": 0,
             "ticks": ""
            },
            "colorscale": [
             [
              0,
              "#0d0887"
             ],
             [
              0.1111111111111111,
              "#46039f"
             ],
             [
              0.2222222222222222,
              "#7201a8"
             ],
             [
              0.3333333333333333,
              "#9c179e"
             ],
             [
              0.4444444444444444,
              "#bd3786"
             ],
             [
              0.5555555555555556,
              "#d8576b"
             ],
             [
              0.6666666666666666,
              "#ed7953"
             ],
             [
              0.7777777777777778,
              "#fb9f3a"
             ],
             [
              0.8888888888888888,
              "#fdca26"
             ],
             [
              1,
              "#f0f921"
             ]
            ],
            "type": "surface"
           }
          ],
          "table": [
           {
            "cells": {
             "fill": {
              "color": "#EBF0F8"
             },
             "line": {
              "color": "white"
             }
            },
            "header": {
             "fill": {
              "color": "#C8D4E3"
             },
             "line": {
              "color": "white"
             }
            },
            "type": "table"
           }
          ]
         },
         "layout": {
          "annotationdefaults": {
           "arrowcolor": "#2a3f5f",
           "arrowhead": 0,
           "arrowwidth": 1
          },
          "autotypenumbers": "strict",
          "coloraxis": {
           "colorbar": {
            "outlinewidth": 0,
            "ticks": ""
           }
          },
          "colorscale": {
           "diverging": [
            [
             0,
             "#8e0152"
            ],
            [
             0.1,
             "#c51b7d"
            ],
            [
             0.2,
             "#de77ae"
            ],
            [
             0.3,
             "#f1b6da"
            ],
            [
             0.4,
             "#fde0ef"
            ],
            [
             0.5,
             "#f7f7f7"
            ],
            [
             0.6,
             "#e6f5d0"
            ],
            [
             0.7,
             "#b8e186"
            ],
            [
             0.8,
             "#7fbc41"
            ],
            [
             0.9,
             "#4d9221"
            ],
            [
             1,
             "#276419"
            ]
           ],
           "sequential": [
            [
             0,
             "#0d0887"
            ],
            [
             0.1111111111111111,
             "#46039f"
            ],
            [
             0.2222222222222222,
             "#7201a8"
            ],
            [
             0.3333333333333333,
             "#9c179e"
            ],
            [
             0.4444444444444444,
             "#bd3786"
            ],
            [
             0.5555555555555556,
             "#d8576b"
            ],
            [
             0.6666666666666666,
             "#ed7953"
            ],
            [
             0.7777777777777778,
             "#fb9f3a"
            ],
            [
             0.8888888888888888,
             "#fdca26"
            ],
            [
             1,
             "#f0f921"
            ]
           ],
           "sequentialminus": [
            [
             0,
             "#0d0887"
            ],
            [
             0.1111111111111111,
             "#46039f"
            ],
            [
             0.2222222222222222,
             "#7201a8"
            ],
            [
             0.3333333333333333,
             "#9c179e"
            ],
            [
             0.4444444444444444,
             "#bd3786"
            ],
            [
             0.5555555555555556,
             "#d8576b"
            ],
            [
             0.6666666666666666,
             "#ed7953"
            ],
            [
             0.7777777777777778,
             "#fb9f3a"
            ],
            [
             0.8888888888888888,
             "#fdca26"
            ],
            [
             1,
             "#f0f921"
            ]
           ]
          },
          "colorway": [
           "#636efa",
           "#EF553B",
           "#00cc96",
           "#ab63fa",
           "#FFA15A",
           "#19d3f3",
           "#FF6692",
           "#B6E880",
           "#FF97FF",
           "#FECB52"
          ],
          "font": {
           "color": "#2a3f5f"
          },
          "geo": {
           "bgcolor": "white",
           "lakecolor": "white",
           "landcolor": "#E5ECF6",
           "showlakes": true,
           "showland": true,
           "subunitcolor": "white"
          },
          "hoverlabel": {
           "align": "left"
          },
          "hovermode": "closest",
          "mapbox": {
           "style": "light"
          },
          "paper_bgcolor": "white",
          "plot_bgcolor": "#E5ECF6",
          "polar": {
           "angularaxis": {
            "gridcolor": "white",
            "linecolor": "white",
            "ticks": ""
           },
           "bgcolor": "#E5ECF6",
           "radialaxis": {
            "gridcolor": "white",
            "linecolor": "white",
            "ticks": ""
           }
          },
          "scene": {
           "xaxis": {
            "backgroundcolor": "#E5ECF6",
            "gridcolor": "white",
            "gridwidth": 2,
            "linecolor": "white",
            "showbackground": true,
            "ticks": "",
            "zerolinecolor": "white"
           },
           "yaxis": {
            "backgroundcolor": "#E5ECF6",
            "gridcolor": "white",
            "gridwidth": 2,
            "linecolor": "white",
            "showbackground": true,
            "ticks": "",
            "zerolinecolor": "white"
           },
           "zaxis": {
            "backgroundcolor": "#E5ECF6",
            "gridcolor": "white",
            "gridwidth": 2,
            "linecolor": "white",
            "showbackground": true,
            "ticks": "",
            "zerolinecolor": "white"
           }
          },
          "shapedefaults": {
           "line": {
            "color": "#2a3f5f"
           }
          },
          "ternary": {
           "aaxis": {
            "gridcolor": "white",
            "linecolor": "white",
            "ticks": ""
           },
           "baxis": {
            "gridcolor": "white",
            "linecolor": "white",
            "ticks": ""
           },
           "bgcolor": "#E5ECF6",
           "caxis": {
            "gridcolor": "white",
            "linecolor": "white",
            "ticks": ""
           }
          },
          "title": {
           "x": 0.05
          },
          "xaxis": {
           "automargin": true,
           "gridcolor": "white",
           "linecolor": "white",
           "ticks": "",
           "title": {
            "standoff": 15
           },
           "zerolinecolor": "white",
           "zerolinewidth": 2
          },
          "yaxis": {
           "automargin": true,
           "gridcolor": "white",
           "linecolor": "white",
           "ticks": "",
           "title": {
            "standoff": 15
           },
           "zerolinecolor": "white",
           "zerolinewidth": 2
          }
         }
        },
        "title": {
         "text": "Top 10 Most Streamed Songs"
        },
        "width": 800,
        "xaxis": {
         "anchor": "y",
         "autorange": true,
         "domain": [
          0,
          1
         ],
         "range": [
          -0.5,
          9.5
         ],
         "tickangle": 45,
         "tickmode": "array",
         "ticktext": [
          "Fantasmas",
          "WHERE SHE GOES",
          "BESO",
          "un x100to",
          "CORAZÓN VACÍO",
          "Shakira: Bzrp Music Sessions, Vol. 53",
          "TQG",
          "Bonnie & Clyde",
          "EVITA!",
          "Nonsense"
         ],
         "tickvals": [
          "Fantasmas",
          "WHERE SHE GOES",
          "BESO",
          "un x100to",
          "CORAZÓN VACÍO",
          "Shakira: Bzrp Music Sessions, Vol. 53",
          "TQG",
          "Bonnie & Clyde",
          "EVITA!",
          "Nonsense"
         ],
         "title": {
          "text": ""
         },
         "type": "category"
        },
        "yaxis": {
         "anchor": "x",
         "autorange": true,
         "domain": [
          0,
          1
         ],
         "range": [
          0,
          26.315789473684212
         ],
         "title": {
          "text": "Count"
         },
         "type": "linear"
        }
       }
      },
      "image/png": "[encoded data removed]"
     },
     "metadata": {},
     "output_type": "display_data"
    }
   ],
   "source": [
    "# Create a bar graph to show my top 10 played songs and the number of times I listened to them\n",
    "fig = px.bar(df['trackName'].value_counts().head(10), title='Top 10 Most Streamed Songs')\n",
    "fig.update_xaxes(tickangle=45, tickmode='array', tickvals=df['trackName'].value_counts().head(10).index, ticktext=df['trackName'].value_counts().head(10).index)\n",
    "fig.update_layout(yaxis_title='Count', height=600, width=800, showlegend=False, xaxis_title='')\n",
    "fig.update_traces(marker_color='#1DB954', hovertemplate='Count: %{y}<br>Song: %{x}')\n",
    "fig.show()"
   ]
  },
  {
   "cell_type": "markdown",
   "id": "9f3ed5b7-c2b5-4a48-bc3a-9c2a8acc88fd",
   "metadata": {},
   "source": [
    "Findings: My most listened to song was 'Fantasmas' by Ambar Lucid<br>\n",
    "Based off this graph I can see that I should look into more Latin songs and artists since those are the songs I seem to listen to the most"
   ]
  },
  {
   "cell_type": "markdown",
   "id": "60eeecd1-78c1-4bfe-a07c-6a08b8f0102b",
   "metadata": {},
   "source": [
    "# Goal: Top 20 Most Streamed Artists"
   ]
  },
  {
   "cell_type": "code",
   "execution_count": 18,
   "id": "c933aa65-ba67-4530-9d33-d545add5ff1e",
   "metadata": {},
   "outputs": [
    {
     "data": {
      "text/plain": [
       "artistName\n",
       "BTS                    125\n",
       "SEVENTEEN              120\n",
       "TOMORROW X TOGETHER    109\n",
       "DeVita                  86\n",
       "Stray Kids              81\n",
       "                      ... \n",
       "Big K.R.I.T.             1\n",
       "My Chemical Romance      1\n",
       "Sad Night Dynamite       1\n",
       "Wolpis Carter            1\n",
       "Gaeko                    1\n",
       "Name: count, Length: 1145, dtype: int64"
      ]
     },
     "execution_count": 18,
     "metadata": {},
     "output_type": "execute_result"
    }
   ],
   "source": [
    "# Count how many times I listened to individual artists\n",
    "pd.Series(df['artistName']).value_counts()"
   ]
  },
  {
   "cell_type": "code",
   "execution_count": 19,
   "id": "579f2761-4bb5-41fa-9edd-1081317c4221",
   "metadata": {},
   "outputs": [
    {
     "data": {
      "text/plain": [
       "artistName\n",
       "BTS                    125\n",
       "SEVENTEEN              120\n",
       "TOMORROW X TOGETHER    109\n",
       "DeVita                  86\n",
       "Stray Kids              81\n",
       "NewJeans                73\n",
       "KAROL G                 65\n",
       "Red Velvet              57\n",
       "Bad Bunny               55\n",
       "DAY6                    53\n",
       "Ariana Grande           52\n",
       "FLO                     49\n",
       "Conan Gray              49\n",
       "Troye Sivan             48\n",
       "KATIE                   48\n",
       "ROSALÍA                 45\n",
       "AKMU                    44\n",
       "NCT 127                 43\n",
       "Ambar Lucid             43\n",
       "EXO                     43\n",
       "Name: count, dtype: int64"
      ]
     },
     "execution_count": 19,
     "metadata": {},
     "output_type": "execute_result"
    }
   ],
   "source": [
    "# Show my top 20 most listened to artists\n",
    "pd.Series(df['artistName']).value_counts().head(20)"
   ]
  },
  {
   "cell_type": "code",
   "execution_count": 39,
   "id": "bb15bd33-280e-4f66-8d98-957c8261a2b6",
   "metadata": {},
   "outputs": [
    {
     "data": {
      "application/vnd.plotly.v1+json": {
       "config": {
        "plotlyServerURL": "https://plot.ly"
       },
       "data": [
        {
         "alignmentgroup": "True",
         "hovertemplate": "Count: %{y}<br>Artist: %{x}",
         "legendgroup": "count",
         "marker": {
          "color": "#1DB954",
          "pattern": {
           "shape": ""
          }
         },
         "name": "count",
         "offsetgroup": "count",
         "orientation": "h",
         "showlegend": true,
         "textposition": "auto",
         "type": "bar",
         "x": [
          125,
          120,
          109,
          86,
          81,
          73,
          65,
          57,
          55,
          53,
          52,
          49,
          49,
          48,
          48,
          45,
          44,
          43,
          43,
          43
         ],
         "xaxis": "x",
         "y": [
          "BTS",
          "SEVENTEEN",
          "TOMORROW X TOGETHER",
          "DeVita",
          "Stray Kids",
          "NewJeans",
          "KAROL G",
          "Red Velvet",
          "Bad Bunny",
          "DAY6",
          "Ariana Grande",
          "FLO",
          "Conan Gray",
          "Troye Sivan",
          "KATIE",
          "ROSALÍA",
          "AKMU",
          "NCT 127",
          "Ambar Lucid",
          "EXO"
         ],
         "yaxis": "y"
        }
       ],
       "layout": {
        "barmode": "relative",
        "height": 600,
        "legend": {
         "title": {
          "text": "variable"
         },
         "tracegroupgap": 0
        },
        "showlegend": false,
        "template": {
         "data": {
          "bar": [
           {
            "error_x": {
             "color": "#2a3f5f"
            },
            "error_y": {
             "color": "#2a3f5f"
            },
            "marker": {
             "line": {
              "color": "#E5ECF6",
              "width": 0.5
             },
             "pattern": {
              "fillmode": "overlay",
              "size": 10,
              "solidity": 0.2
             }
            },
            "type": "bar"
           }
          ],
          "barpolar": [
           {
            "marker": {
             "line": {
              "color": "#E5ECF6",
              "width": 0.5
             },
             "pattern": {
              "fillmode": "overlay",
              "size": 10,
              "solidity": 0.2
             }
            },
            "type": "barpolar"
           }
          ],
          "carpet": [
           {
            "aaxis": {
             "endlinecolor": "#2a3f5f",
             "gridcolor": "white",
             "linecolor": "white",
             "minorgridcolor": "white",
             "startlinecolor": "#2a3f5f"
            },
            "baxis": {
             "endlinecolor": "#2a3f5f",
             "gridcolor": "white",
             "linecolor": "white",
             "minorgridcolor": "white",
             "startlinecolor": "#2a3f5f"
            },
            "type": "carpet"
           }
          ],
          "choropleth": [
           {
            "colorbar": {
             "outlinewidth": 0,
             "ticks": ""
            },
            "type": "choropleth"
           }
          ],
          "contour": [
           {
            "colorbar": {
             "outlinewidth": 0,
             "ticks": ""
            },
            "colorscale": [
             [
              0,
              "#0d0887"
             ],
             [
              0.1111111111111111,
              "#46039f"
             ],
             [
              0.2222222222222222,
              "#7201a8"
             ],
             [
              0.3333333333333333,
              "#9c179e"
             ],
             [
              0.4444444444444444,
              "#bd3786"
             ],
             [
              0.5555555555555556,
              "#d8576b"
             ],
             [
              0.6666666666666666,
              "#ed7953"
             ],
             [
              0.7777777777777778,
              "#fb9f3a"
             ],
             [
              0.8888888888888888,
              "#fdca26"
             ],
             [
              1,
              "#f0f921"
             ]
            ],
            "type": "contour"
           }
          ],
          "contourcarpet": [
           {
            "colorbar": {
             "outlinewidth": 0,
             "ticks": ""
            },
            "type": "contourcarpet"
           }
          ],
          "heatmap": [
           {
            "colorbar": {
             "outlinewidth": 0,
             "ticks": ""
            },
            "colorscale": [
             [
              0,
              "#0d0887"
             ],
             [
              0.1111111111111111,
              "#46039f"
             ],
             [
              0.2222222222222222,
              "#7201a8"
             ],
             [
              0.3333333333333333,
              "#9c179e"
             ],
             [
              0.4444444444444444,
              "#bd3786"
             ],
             [
              0.5555555555555556,
              "#d8576b"
             ],
             [
              0.6666666666666666,
              "#ed7953"
             ],
             [
              0.7777777777777778,
              "#fb9f3a"
             ],
             [
              0.8888888888888888,
              "#fdca26"
             ],
             [
              1,
              "#f0f921"
             ]
            ],
            "type": "heatmap"
           }
          ],
          "heatmapgl": [
           {
            "colorbar": {
             "outlinewidth": 0,
             "ticks": ""
            },
            "colorscale": [
             [
              0,
              "#0d0887"
             ],
             [
              0.1111111111111111,
              "#46039f"
             ],
             [
              0.2222222222222222,
              "#7201a8"
             ],
             [
              0.3333333333333333,
              "#9c179e"
             ],
             [
              0.4444444444444444,
              "#bd3786"
             ],
             [
              0.5555555555555556,
              "#d8576b"
             ],
             [
              0.6666666666666666,
              "#ed7953"
             ],
             [
              0.7777777777777778,
              "#fb9f3a"
             ],
             [
              0.8888888888888888,
              "#fdca26"
             ],
             [
              1,
              "#f0f921"
             ]
            ],
            "type": "heatmapgl"
           }
          ],
          "histogram": [
           {
            "marker": {
             "pattern": {
              "fillmode": "overlay",
              "size": 10,
              "solidity": 0.2
             }
            },
            "type": "histogram"
           }
          ],
          "histogram2d": [
           {
            "colorbar": {
             "outlinewidth": 0,
             "ticks": ""
            },
            "colorscale": [
             [
              0,
              "#0d0887"
             ],
             [
              0.1111111111111111,
              "#46039f"
             ],
             [
              0.2222222222222222,
              "#7201a8"
             ],
             [
              0.3333333333333333,
              "#9c179e"
             ],
             [
              0.4444444444444444,
              "#bd3786"
             ],
             [
              0.5555555555555556,
              "#d8576b"
             ],
             [
              0.6666666666666666,
              "#ed7953"
             ],
             [
              0.7777777777777778,
              "#fb9f3a"
             ],
             [
              0.8888888888888888,
              "#fdca26"
             ],
             [
              1,
              "#f0f921"
             ]
            ],
            "type": "histogram2d"
           }
          ],
          "histogram2dcontour": [
           {
            "colorbar": {
             "outlinewidth": 0,
             "ticks": ""
            },
            "colorscale": [
             [
              0,
              "#0d0887"
             ],
             [
              0.1111111111111111,
              "#46039f"
             ],
             [
              0.2222222222222222,
              "#7201a8"
             ],
             [
              0.3333333333333333,
              "#9c179e"
             ],
             [
              0.4444444444444444,
              "#bd3786"
             ],
             [
              0.5555555555555556,
              "#d8576b"
             ],
             [
              0.6666666666666666,
              "#ed7953"
             ],
             [
              0.7777777777777778,
              "#fb9f3a"
             ],
             [
              0.8888888888888888,
              "#fdca26"
             ],
             [
              1,
              "#f0f921"
             ]
            ],
            "type": "histogram2dcontour"
           }
          ],
          "mesh3d": [
           {
            "colorbar": {
             "outlinewidth": 0,
             "ticks": ""
            },
            "type": "mesh3d"
           }
          ],
          "parcoords": [
           {
            "line": {
             "colorbar": {
              "outlinewidth": 0,
              "ticks": ""
             }
            },
            "type": "parcoords"
           }
          ],
          "pie": [
           {
            "automargin": true,
            "type": "pie"
           }
          ],
          "scatter": [
           {
            "fillpattern": {
             "fillmode": "overlay",
             "size": 10,
             "solidity": 0.2
            },
            "type": "scatter"
           }
          ],
          "scatter3d": [
           {
            "line": {
             "colorbar": {
              "outlinewidth": 0,
              "ticks": ""
             }
            },
            "marker": {
             "colorbar": {
              "outlinewidth": 0,
              "ticks": ""
             }
            },
            "type": "scatter3d"
           }
          ],
          "scattercarpet": [
           {
            "marker": {
             "colorbar": {
              "outlinewidth": 0,
              "ticks": ""
             }
            },
            "type": "scattercarpet"
           }
          ],
          "scattergeo": [
           {
            "marker": {
             "colorbar": {
              "outlinewidth": 0,
              "ticks": ""
             }
            },
            "type": "scattergeo"
           }
          ],
          "scattergl": [
           {
            "marker": {
             "colorbar": {
              "outlinewidth": 0,
              "ticks": ""
             }
            },
            "type": "scattergl"
           }
          ],
          "scattermapbox": [
           {
            "marker": {
             "colorbar": {
              "outlinewidth": 0,
              "ticks": ""
             }
            },
            "type": "scattermapbox"
           }
          ],
          "scatterpolar": [
           {
            "marker": {
             "colorbar": {
              "outlinewidth": 0,
              "ticks": ""
             }
            },
            "type": "scatterpolar"
           }
          ],
          "scatterpolargl": [
           {
            "marker": {
             "colorbar": {
              "outlinewidth": 0,
              "ticks": ""
             }
            },
            "type": "scatterpolargl"
           }
          ],
          "scatterternary": [
           {
            "marker": {
             "colorbar": {
              "outlinewidth": 0,
              "ticks": ""
             }
            },
            "type": "scatterternary"
           }
          ],
          "surface": [
           {
            "colorbar": {
             "outlinewidth": 0,
             "ticks": ""
            },
            "colorscale": [
             [
              0,
              "#0d0887"
             ],
             [
              0.1111111111111111,
              "#46039f"
             ],
             [
              0.2222222222222222,
              "#7201a8"
             ],
             [
              0.3333333333333333,
              "#9c179e"
             ],
             [
              0.4444444444444444,
              "#bd3786"
             ],
             [
              0.5555555555555556,
              "#d8576b"
             ],
             [
              0.6666666666666666,
              "#ed7953"
             ],
             [
              0.7777777777777778,
              "#fb9f3a"
             ],
             [
              0.8888888888888888,
              "#fdca26"
             ],
             [
              1,
              "#f0f921"
             ]
            ],
            "type": "surface"
           }
          ],
          "table": [
           {
            "cells": {
             "fill": {
              "color": "#EBF0F8"
             },
             "line": {
              "color": "white"
             }
            },
            "header": {
             "fill": {
              "color": "#C8D4E3"
             },
             "line": {
              "color": "white"
             }
            },
            "type": "table"
           }
          ]
         },
         "layout": {
          "annotationdefaults": {
           "arrowcolor": "#2a3f5f",
           "arrowhead": 0,
           "arrowwidth": 1
          },
          "autotypenumbers": "strict",
          "coloraxis": {
           "colorbar": {
            "outlinewidth": 0,
            "ticks": ""
           }
          },
          "colorscale": {
           "diverging": [
            [
             0,
             "#8e0152"
            ],
            [
             0.1,
             "#c51b7d"
            ],
            [
             0.2,
             "#de77ae"
            ],
            [
             0.3,
             "#f1b6da"
            ],
            [
             0.4,
             "#fde0ef"
            ],
            [
             0.5,
             "#f7f7f7"
            ],
            [
             0.6,
             "#e6f5d0"
            ],
            [
             0.7,
             "#b8e186"
            ],
            [
             0.8,
             "#7fbc41"
            ],
            [
             0.9,
             "#4d9221"
            ],
            [
             1,
             "#276419"
            ]
           ],
           "sequential": [
            [
             0,
             "#0d0887"
            ],
            [
             0.1111111111111111,
             "#46039f"
            ],
            [
             0.2222222222222222,
             "#7201a8"
            ],
            [
             0.3333333333333333,
             "#9c179e"
            ],
            [
             0.4444444444444444,
             "#bd3786"
            ],
            [
             0.5555555555555556,
             "#d8576b"
            ],
            [
             0.6666666666666666,
             "#ed7953"
            ],
            [
             0.7777777777777778,
             "#fb9f3a"
            ],
            [
             0.8888888888888888,
             "#fdca26"
            ],
            [
             1,
             "#f0f921"
            ]
           ],
           "sequentialminus": [
            [
             0,
             "#0d0887"
            ],
            [
             0.1111111111111111,
             "#46039f"
            ],
            [
             0.2222222222222222,
             "#7201a8"
            ],
            [
             0.3333333333333333,
             "#9c179e"
            ],
            [
             0.4444444444444444,
             "#bd3786"
            ],
            [
             0.5555555555555556,
             "#d8576b"
            ],
            [
             0.6666666666666666,
             "#ed7953"
            ],
            [
             0.7777777777777778,
             "#fb9f3a"
            ],
            [
             0.8888888888888888,
             "#fdca26"
            ],
            [
             1,
             "#f0f921"
            ]
           ]
          },
          "colorway": [
           "#636efa",
           "#EF553B",
           "#00cc96",
           "#ab63fa",
           "#FFA15A",
           "#19d3f3",
           "#FF6692",
           "#B6E880",
           "#FF97FF",
           "#FECB52"
          ],
          "font": {
           "color": "#2a3f5f"
          },
          "geo": {
           "bgcolor": "white",
           "lakecolor": "white",
           "landcolor": "#E5ECF6",
           "showlakes": true,
           "showland": true,
           "subunitcolor": "white"
          },
          "hoverlabel": {
           "align": "left"
          },
          "hovermode": "closest",
          "mapbox": {
           "style": "light"
          },
          "paper_bgcolor": "white",
          "plot_bgcolor": "#E5ECF6",
          "polar": {
           "angularaxis": {
            "gridcolor": "white",
            "linecolor": "white",
            "ticks": ""
           },
           "bgcolor": "#E5ECF6",
           "radialaxis": {
            "gridcolor": "white",
            "linecolor": "white",
            "ticks": ""
           }
          },
          "scene": {
           "xaxis": {
            "backgroundcolor": "#E5ECF6",
            "gridcolor": "white",
            "gridwidth": 2,
            "linecolor": "white",
            "showbackground": true,
            "ticks": "",
            "zerolinecolor": "white"
           },
           "yaxis": {
            "backgroundcolor": "#E5ECF6",
            "gridcolor": "white",
            "gridwidth": 2,
            "linecolor": "white",
            "showbackground": true,
            "ticks": "",
            "zerolinecolor": "white"
           },
           "zaxis": {
            "backgroundcolor": "#E5ECF6",
            "gridcolor": "white",
            "gridwidth": 2,
            "linecolor": "white",
            "showbackground": true,
            "ticks": "",
            "zerolinecolor": "white"
           }
          },
          "shapedefaults": {
           "line": {
            "color": "#2a3f5f"
           }
          },
          "ternary": {
           "aaxis": {
            "gridcolor": "white",
            "linecolor": "white",
            "ticks": ""
           },
           "baxis": {
            "gridcolor": "white",
            "linecolor": "white",
            "ticks": ""
           },
           "bgcolor": "#E5ECF6",
           "caxis": {
            "gridcolor": "white",
            "linecolor": "white",
            "ticks": ""
           }
          },
          "title": {
           "x": 0.05
          },
          "xaxis": {
           "automargin": true,
           "gridcolor": "white",
           "linecolor": "white",
           "ticks": "",
           "title": {
            "standoff": 15
           },
           "zerolinecolor": "white",
           "zerolinewidth": 2
          },
          "yaxis": {
           "automargin": true,
           "gridcolor": "white",
           "linecolor": "white",
           "ticks": "",
           "title": {
            "standoff": 15
           },
           "zerolinecolor": "white",
           "zerolinewidth": 2
          }
         }
        },
        "title": {
         "text": "Top 20 Streamed Artists"
        },
        "width": 800,
        "xaxis": {
         "anchor": "y",
         "autorange": true,
         "domain": [
          0,
          1
         ],
         "range": [
          0,
          131.57894736842104
         ],
         "title": {
          "text": "Count"
         },
         "type": "linear"
        },
        "yaxis": {
         "anchor": "x",
         "autorange": true,
         "domain": [
          0,
          1
         ],
         "range": [
          19.5,
          -0.5
         ],
         "title": {
          "text": ""
         },
         "type": "category"
        }
       }
      },
      "image/png": "[encoded data removed]"
     },
     "metadata": {},
     "output_type": "display_data"
    }
   ],
   "source": [
    "# Create a horizontal bar graph to display my top 20 artists and the number of times I listened to them\n",
    "fig = px.bar(df['artistName'].value_counts().head(20), orientation='h', title='Top 20 Streamed Artists',\n",
    "             labels={'index': 'Artists', 'value': 'Count'})\n",
    "fig.update_layout(yaxis={'autorange': 'reversed'}, yaxis_title='', height=600, width=800, showlegend=False, xaxis_title='Count')\n",
    "fig.update_traces(marker_color='#1DB954', hovertemplate='Count: %{y}<br>Artist: %{x}')\n",
    "fig.show()"
   ]
  },
  {
   "cell_type": "markdown",
   "id": "48165852-35b8-421b-a6fe-37b9b4d971cc",
   "metadata": {},
   "source": [
    "Findings: 'BTS' is my most listened to artist<br>I find this really interesting because there are no songs from 'BTS' in my most Top 10 Most Listened to Songs<br>\n",
    "My 'Top 10 Songs' are mostly Latin artists but my 'Top 20 Artists' are mostly K-Pop artists<br>I must listen to a wider variety of songs from K-Pop artists while I only listen to specific songs from Latin artists"
   ]
  },
  {
   "cell_type": "code",
   "execution_count": 38,
   "id": "6e7fae94-0210-44f5-a0e9-ba56a5e565f3",
   "metadata": {},
   "outputs": [
    {
     "data": {
      "application/vnd.plotly.v1+json": {
       "config": {
        "plotlyServerURL": "https://plot.ly"
       },
       "data": [
        {
         "hovertemplate": "Minutes: %{y}<br>Day: %{x}",
         "legendgroup": "",
         "line": {
          "color": "#191414",
          "dash": "solid"
         },
         "marker": {
          "color": "#1DB954",
          "symbol": "circle"
         },
         "mode": "lines+markers",
         "name": "",
         "orientation": "v",
         "showlegend": false,
         "type": "scatter",
         "x": [
          "BTS",
          "SEVENTEEN",
          "TOMORROW X TOGETHER",
          "DeVita",
          "Stray Kids",
          "NewJeans",
          "KAROL G",
          "Red Velvet",
          "Bad Bunny",
          "DAY6",
          "Ariana Grande",
          "FLO",
          "Conan Gray",
          "Troye Sivan",
          "KATIE",
          "ROSALÍA",
          "AKMU",
          "NCT 127",
          "Ambar Lucid",
          "EXO"
         ],
         "xaxis": "x",
         "y": [
          461.49545,
          395.39616666666666,
          346.07506666666666,
          267.5860833333333,
          265.1284166666667,
          205.8155,
          193.20863333333332,
          194.17168333333333,
          201.56165000000001,
          185.50861666666665,
          169.97816666666668,
          144.85596666666666,
          160.01313333333334,
          170.90506666666667,
          170.12451666666666,
          131.97498333333334,
          153.70585,
          154.31286666666668,
          141.0711,
          142.08036666666666
         ],
         "yaxis": "y"
        }
       ],
       "layout": {
        "height": 600,
        "legend": {
         "tracegroupgap": 0
        },
        "showlegend": false,
        "template": {
         "data": {
          "bar": [
           {
            "error_x": {
             "color": "#2a3f5f"
            },
            "error_y": {
             "color": "#2a3f5f"
            },
            "marker": {
             "line": {
              "color": "#E5ECF6",
              "width": 0.5
             },
             "pattern": {
              "fillmode": "overlay",
              "size": 10,
              "solidity": 0.2
             }
            },
            "type": "bar"
           }
          ],
          "barpolar": [
           {
            "marker": {
             "line": {
              "color": "#E5ECF6",
              "width": 0.5
             },
             "pattern": {
              "fillmode": "overlay",
              "size": 10,
              "solidity": 0.2
             }
            },
            "type": "barpolar"
           }
          ],
          "carpet": [
           {
            "aaxis": {
             "endlinecolor": "#2a3f5f",
             "gridcolor": "white",
             "linecolor": "white",
             "minorgridcolor": "white",
             "startlinecolor": "#2a3f5f"
            },
            "baxis": {
             "endlinecolor": "#2a3f5f",
             "gridcolor": "white",
             "linecolor": "white",
             "minorgridcolor": "white",
             "startlinecolor": "#2a3f5f"
            },
            "type": "carpet"
           }
          ],
          "choropleth": [
           {
            "colorbar": {
             "outlinewidth": 0,
             "ticks": ""
            },
            "type": "choropleth"
           }
          ],
          "contour": [
           {
            "colorbar": {
             "outlinewidth": 0,
             "ticks": ""
            },
            "colorscale": [
             [
              0,
              "#0d0887"
             ],
             [
              0.1111111111111111,
              "#46039f"
             ],
             [
              0.2222222222222222,
              "#7201a8"
             ],
             [
              0.3333333333333333,
              "#9c179e"
             ],
             [
              0.4444444444444444,
              "#bd3786"
             ],
             [
              0.5555555555555556,
              "#d8576b"
             ],
             [
              0.6666666666666666,
              "#ed7953"
             ],
             [
              0.7777777777777778,
              "#fb9f3a"
             ],
             [
              0.8888888888888888,
              "#fdca26"
             ],
             [
              1,
              "#f0f921"
             ]
            ],
            "type": "contour"
           }
          ],
          "contourcarpet": [
           {
            "colorbar": {
             "outlinewidth": 0,
             "ticks": ""
            },
            "type": "contourcarpet"
           }
          ],
          "heatmap": [
           {
            "colorbar": {
             "outlinewidth": 0,
             "ticks": ""
            },
            "colorscale": [
             [
              0,
              "#0d0887"
             ],
             [
              0.1111111111111111,
              "#46039f"
             ],
             [
              0.2222222222222222,
              "#7201a8"
             ],
             [
              0.3333333333333333,
              "#9c179e"
             ],
             [
              0.4444444444444444,
              "#bd3786"
             ],
             [
              0.5555555555555556,
              "#d8576b"
             ],
             [
              0.6666666666666666,
              "#ed7953"
             ],
             [
              0.7777777777777778,
              "#fb9f3a"
             ],
             [
              0.8888888888888888,
              "#fdca26"
             ],
             [
              1,
              "#f0f921"
             ]
            ],
            "type": "heatmap"
           }
          ],
          "heatmapgl": [
           {
            "colorbar": {
             "outlinewidth": 0,
             "ticks": ""
            },
            "colorscale": [
             [
              0,
              "#0d0887"
             ],
             [
              0.1111111111111111,
              "#46039f"
             ],
             [
              0.2222222222222222,
              "#7201a8"
             ],
             [
              0.3333333333333333,
              "#9c179e"
             ],
             [
              0.4444444444444444,
              "#bd3786"
             ],
             [
              0.5555555555555556,
              "#d8576b"
             ],
             [
              0.6666666666666666,
              "#ed7953"
             ],
             [
              0.7777777777777778,
              "#fb9f3a"
             ],
             [
              0.8888888888888888,
              "#fdca26"
             ],
             [
              1,
              "#f0f921"
             ]
            ],
            "type": "heatmapgl"
           }
          ],
          "histogram": [
           {
            "marker": {
             "pattern": {
              "fillmode": "overlay",
              "size": 10,
              "solidity": 0.2
             }
            },
            "type": "histogram"
           }
          ],
          "histogram2d": [
           {
            "colorbar": {
             "outlinewidth": 0,
             "ticks": ""
            },
            "colorscale": [
             [
              0,
              "#0d0887"
             ],
             [
              0.1111111111111111,
              "#46039f"
             ],
             [
              0.2222222222222222,
              "#7201a8"
             ],
             [
              0.3333333333333333,
              "#9c179e"
             ],
             [
              0.4444444444444444,
              "#bd3786"
             ],
             [
              0.5555555555555556,
              "#d8576b"
             ],
             [
              0.6666666666666666,
              "#ed7953"
             ],
             [
              0.7777777777777778,
              "#fb9f3a"
             ],
             [
              0.8888888888888888,
              "#fdca26"
             ],
             [
              1,
              "#f0f921"
             ]
            ],
            "type": "histogram2d"
           }
          ],
          "histogram2dcontour": [
           {
            "colorbar": {
             "outlinewidth": 0,
             "ticks": ""
            },
            "colorscale": [
             [
              0,
              "#0d0887"
             ],
             [
              0.1111111111111111,
              "#46039f"
             ],
             [
              0.2222222222222222,
              "#7201a8"
             ],
             [
              0.3333333333333333,
              "#9c179e"
             ],
             [
              0.4444444444444444,
              "#bd3786"
             ],
             [
              0.5555555555555556,
              "#d8576b"
             ],
             [
              0.6666666666666666,
              "#ed7953"
             ],
             [
              0.7777777777777778,
              "#fb9f3a"
             ],
             [
              0.8888888888888888,
              "#fdca26"
             ],
             [
              1,
              "#f0f921"
             ]
            ],
            "type": "histogram2dcontour"
           }
          ],
          "mesh3d": [
           {
            "colorbar": {
             "outlinewidth": 0,
             "ticks": ""
            },
            "type": "mesh3d"
           }
          ],
          "parcoords": [
           {
            "line": {
             "colorbar": {
              "outlinewidth": 0,
              "ticks": ""
             }
            },
            "type": "parcoords"
           }
          ],
          "pie": [
           {
            "automargin": true,
            "type": "pie"
           }
          ],
          "scatter": [
           {
            "fillpattern": {
             "fillmode": "overlay",
             "size": 10,
             "solidity": 0.2
            },
            "type": "scatter"
           }
          ],
          "scatter3d": [
           {
            "line": {
             "colorbar": {
              "outlinewidth": 0,
              "ticks": ""
             }
            },
            "marker": {
             "colorbar": {
              "outlinewidth": 0,
              "ticks": ""
             }
            },
            "type": "scatter3d"
           }
          ],
          "scattercarpet": [
           {
            "marker": {
             "colorbar": {
              "outlinewidth": 0,
              "ticks": ""
             }
            },
            "type": "scattercarpet"
           }
          ],
          "scattergeo": [
           {
            "marker": {
             "colorbar": {
              "outlinewidth": 0,
              "ticks": ""
             }
            },
            "type": "scattergeo"
           }
          ],
          "scattergl": [
           {
            "marker": {
             "colorbar": {
              "outlinewidth": 0,
              "ticks": ""
             }
            },
            "type": "scattergl"
           }
          ],
          "scattermapbox": [
           {
            "marker": {
             "colorbar": {
              "outlinewidth": 0,
              "ticks": ""
             }
            },
            "type": "scattermapbox"
           }
          ],
          "scatterpolar": [
           {
            "marker": {
             "colorbar": {
              "outlinewidth": 0,
              "ticks": ""
             }
            },
            "type": "scatterpolar"
           }
          ],
          "scatterpolargl": [
           {
            "marker": {
             "colorbar": {
              "outlinewidth": 0,
              "ticks": ""
             }
            },
            "type": "scatterpolargl"
           }
          ],
          "scatterternary": [
           {
            "marker": {
             "colorbar": {
              "outlinewidth": 0,
              "ticks": ""
             }
            },
            "type": "scatterternary"
           }
          ],
          "surface": [
           {
            "colorbar": {
             "outlinewidth": 0,
             "ticks": ""
            },
            "colorscale": [
             [
              0,
              "#0d0887"
             ],
             [
              0.1111111111111111,
              "#46039f"
             ],
             [
              0.2222222222222222,
              "#7201a8"
             ],
             [
              0.3333333333333333,
              "#9c179e"
             ],
             [
              0.4444444444444444,
              "#bd3786"
             ],
             [
              0.5555555555555556,
              "#d8576b"
             ],
             [
              0.6666666666666666,
              "#ed7953"
             ],
             [
              0.7777777777777778,
              "#fb9f3a"
             ],
             [
              0.8888888888888888,
              "#fdca26"
             ],
             [
              1,
              "#f0f921"
             ]
            ],
            "type": "surface"
           }
          ],
          "table": [
           {
            "cells": {
             "fill": {
              "color": "#EBF0F8"
             },
             "line": {
              "color": "white"
             }
            },
            "header": {
             "fill": {
              "color": "#C8D4E3"
             },
             "line": {
              "color": "white"
             }
            },
            "type": "table"
           }
          ]
         },
         "layout": {
          "annotationdefaults": {
           "arrowcolor": "#2a3f5f",
           "arrowhead": 0,
           "arrowwidth": 1
          },
          "autotypenumbers": "strict",
          "coloraxis": {
           "colorbar": {
            "outlinewidth": 0,
            "ticks": ""
           }
          },
          "colorscale": {
           "diverging": [
            [
             0,
             "#8e0152"
            ],
            [
             0.1,
             "#c51b7d"
            ],
            [
             0.2,
             "#de77ae"
            ],
            [
             0.3,
             "#f1b6da"
            ],
            [
             0.4,
             "#fde0ef"
            ],
            [
             0.5,
             "#f7f7f7"
            ],
            [
             0.6,
             "#e6f5d0"
            ],
            [
             0.7,
             "#b8e186"
            ],
            [
             0.8,
             "#7fbc41"
            ],
            [
             0.9,
             "#4d9221"
            ],
            [
             1,
             "#276419"
            ]
           ],
           "sequential": [
            [
             0,
             "#0d0887"
            ],
            [
             0.1111111111111111,
             "#46039f"
            ],
            [
             0.2222222222222222,
             "#7201a8"
            ],
            [
             0.3333333333333333,
             "#9c179e"
            ],
            [
             0.4444444444444444,
             "#bd3786"
            ],
            [
             0.5555555555555556,
             "#d8576b"
            ],
            [
             0.6666666666666666,
             "#ed7953"
            ],
            [
             0.7777777777777778,
             "#fb9f3a"
            ],
            [
             0.8888888888888888,
             "#fdca26"
            ],
            [
             1,
             "#f0f921"
            ]
           ],
           "sequentialminus": [
            [
             0,
             "#0d0887"
            ],
            [
             0.1111111111111111,
             "#46039f"
            ],
            [
             0.2222222222222222,
             "#7201a8"
            ],
            [
             0.3333333333333333,
             "#9c179e"
            ],
            [
             0.4444444444444444,
             "#bd3786"
            ],
            [
             0.5555555555555556,
             "#d8576b"
            ],
            [
             0.6666666666666666,
             "#ed7953"
            ],
            [
             0.7777777777777778,
             "#fb9f3a"
            ],
            [
             0.8888888888888888,
             "#fdca26"
            ],
            [
             1,
             "#f0f921"
            ]
           ]
          },
          "colorway": [
           "#636efa",
           "#EF553B",
           "#00cc96",
           "#ab63fa",
           "#FFA15A",
           "#19d3f3",
           "#FF6692",
           "#B6E880",
           "#FF97FF",
           "#FECB52"
          ],
          "font": {
           "color": "#2a3f5f"
          },
          "geo": {
           "bgcolor": "white",
           "lakecolor": "white",
           "landcolor": "#E5ECF6",
           "showlakes": true,
           "showland": true,
           "subunitcolor": "white"
          },
          "hoverlabel": {
           "align": "left"
          },
          "hovermode": "closest",
          "mapbox": {
           "style": "light"
          },
          "paper_bgcolor": "white",
          "plot_bgcolor": "#E5ECF6",
          "polar": {
           "angularaxis": {
            "gridcolor": "white",
            "linecolor": "white",
            "ticks": ""
           },
           "bgcolor": "#E5ECF6",
           "radialaxis": {
            "gridcolor": "white",
            "linecolor": "white",
            "ticks": ""
           }
          },
          "scene": {
           "xaxis": {
            "backgroundcolor": "#E5ECF6",
            "gridcolor": "white",
            "gridwidth": 2,
            "linecolor": "white",
            "showbackground": true,
            "ticks": "",
            "zerolinecolor": "white"
           },
           "yaxis": {
            "backgroundcolor": "#E5ECF6",
            "gridcolor": "white",
            "gridwidth": 2,
            "linecolor": "white",
            "showbackground": true,
            "ticks": "",
            "zerolinecolor": "white"
           },
           "zaxis": {
            "backgroundcolor": "#E5ECF6",
            "gridcolor": "white",
            "gridwidth": 2,
            "linecolor": "white",
            "showbackground": true,
            "ticks": "",
            "zerolinecolor": "white"
           }
          },
          "shapedefaults": {
           "line": {
            "color": "#2a3f5f"
           }
          },
          "ternary": {
           "aaxis": {
            "gridcolor": "white",
            "linecolor": "white",
            "ticks": ""
           },
           "baxis": {
            "gridcolor": "white",
            "linecolor": "white",
            "ticks": ""
           },
           "bgcolor": "#E5ECF6",
           "caxis": {
            "gridcolor": "white",
            "linecolor": "white",
            "ticks": ""
           }
          },
          "title": {
           "x": 0.05
          },
          "xaxis": {
           "automargin": true,
           "gridcolor": "white",
           "linecolor": "white",
           "ticks": "",
           "title": {
            "standoff": 15
           },
           "zerolinecolor": "white",
           "zerolinewidth": 2
          },
          "yaxis": {
           "automargin": true,
           "gridcolor": "white",
           "linecolor": "white",
           "ticks": "",
           "title": {
            "standoff": 15
           },
           "zerolinecolor": "white",
           "zerolinewidth": 2
          }
         }
        },
        "title": {
         "text": "Total Minutes Listened by Top Streamed Artist"
        },
        "width": 800,
        "xaxis": {
         "anchor": "y",
         "autorange": true,
         "domain": [
          0,
          1
         ],
         "range": [
          -1.1948109058927001,
          20.1948109058927
         ],
         "tickangle": 45,
         "tickmode": "array",
         "title": {
          "text": ""
         },
         "type": "category"
        },
        "yaxis": {
         "anchor": "x",
         "autorange": true,
         "domain": [
          0,
          1
         ],
         "range": [
          109.05470893817206,
          484.4157243951613
         ],
         "title": {
          "text": "Minutes Listened"
         },
         "type": "linear"
        }
       }
      },
      "image/png": "[encoded data removed]"
     },
     "metadata": {},
     "output_type": "display_data"
    }
   ],
   "source": [
    "# Create list of top 20 artists\n",
    "sorted_artists = df['artistName'].value_counts().head(20).index.tolist()\n",
    "\n",
    "# Filter data for the top 20 artists\n",
    "top_artists_data = df[df['artistName'].isin(sorted_artists)]\n",
    "\n",
    "# Aggregate data by artist and sum minutes played\n",
    "min_artist = top_artists_data.groupby('artistName')['minsPlayed'].sum().loc[sorted_artists]\n",
    "\n",
    "# Plot as a line graph\n",
    "fig = px.line(x=min_artist.index, y=min_artist.values, title='Total Minutes Listened by Top Streamed Artist', markers=True)\n",
    "fig.update_traces(line_color='#191414', marker_color='#1DB954', hovertemplate='Minutes: %{y}<br>Day: %{x}')\n",
    "fig.update_layout(xaxis=dict(tickangle=45, tickmode='array'), yaxis_title='Minutes Listened', height=600, width=800, showlegend=False, xaxis_title='')\n",
    "fig.show()"
   ]
  },
  {
   "cell_type": "markdown",
   "id": "bbf84df5-bbe9-436b-b536-a8b46fa4c809",
   "metadata": {},
   "source": [
    "Findings: Since the artists are in order of most streamed it follows a pattern of the minutes listening going down as you go farther right in the graph<br>There are some odd points, FLO and Rosalía, they both have less minutes listened than the artists that come after them<br>You would think there wouldn't be any dips in the graph like this since it is ordered by streams<br>There are other cases but they are less obvious than the 2 I pointed out."
   ]
  },
  {
   "cell_type": "markdown",
   "id": "674b82e9-4045-4d84-bc52-33cd67f06a3e",
   "metadata": {},
   "source": [
    "# What are my top 10 most listened to genres?"
   ]
  },
  {
   "cell_type": "markdown",
   "id": "1e61f28a-b66c-420c-9f73-5eabc64d3d35",
   "metadata": {},
   "source": [
    "Use Spotify API to find the genre of the artists I have listened to and find my top 10 genres"
   ]
  },
  {
   "cell_type": "code",
   "execution_count": 23,
   "id": "b97335c3-b416-4dd6-bfcb-e60d55d0b9f2",
   "metadata": {},
   "outputs": [],
   "source": [
    "import spotipy\n",
    "from spotipy.oauth2 import SpotifyClientCredentials"
   ]
  },
  {
   "cell_type": "code",
   "execution_count": 37,
   "id": "249023d9-3cc0-4b8c-8986-a14549750e85",
   "metadata": {},
   "outputs": [
    {
     "name": "stdin",
     "output_type": "stream",
     "text": [
      " ········\n",
      " ········\n"
     ]
    }
   ],
   "source": [
    "# Initialize the Spotipy client\n",
    "# Input client id and then client secret when this cell is run\n",
    "CLIENT_ID = getpass.getpass()\n",
    "CLIENT_SECRET = getpass.getpass()\n",
    "client_credentials_manager = SpotifyClientCredentials(client_id=CLIENT_ID, client_secret=CLIENT_SECRET)\n",
    "sp = spotipy.Spotify(client_credentials_manager=client_credentials_manager)"
   ]
  },
  {
   "cell_type": "code",
   "execution_count": 25,
   "id": "9ebaa5b8-c9a0-4612-9130-557507e14373",
   "metadata": {},
   "outputs": [],
   "source": [
    "# Get unique artist names\n",
    "unique_artist_names = df['artistName'].unique()\n",
    "\n",
    "# Get genres for each unique artist\n",
    "artist_genres = {}\n",
    "for artist_name in unique_artist_names:\n",
    "    results = sp.search(q='artist:' + artist_name, type='artist', limit=1)\n",
    "    if results['artists']['items']:\n",
    "        artist_id = results['artists']['items'][0]['id']\n",
    "        artist_info = sp.artist(artist_id)\n",
    "        artist_genres[artist_name] = artist_info['genres'] if artist_info['genres'] else None"
   ]
  },
  {
   "cell_type": "code",
   "execution_count": 26,
   "id": "ab6232fb-f570-4e4f-be8e-cbc02291aeb6",
   "metadata": {},
   "outputs": [
    {
     "data": {
      "application/vnd.plotly.v1+json": {
       "config": {
        "plotlyServerURL": "https://plot.ly"
       },
       "data": [
        {
         "alignmentgroup": "True",
         "hovertemplate": "Genre=%{x}<br>Count=%{y}<extra></extra>",
         "legendgroup": "pop",
         "marker": {
          "color": "rgb(141,211,199)",
          "pattern": {
           "shape": ""
          }
         },
         "name": "pop",
         "offsetgroup": "pop",
         "orientation": "v",
         "showlegend": true,
         "textposition": "auto",
         "type": "bar",
         "x": [
          "pop"
         ],
         "xaxis": "x",
         "y": [
          103
         ],
         "yaxis": "y"
        },
        {
         "alignmentgroup": "True",
         "hovertemplate": "Genre=%{x}<br>Count=%{y}<extra></extra>",
         "legendgroup": "k-pop",
         "marker": {
          "color": "rgb(255,255,179)",
          "pattern": {
           "shape": ""
          }
         },
         "name": "k-pop",
         "offsetgroup": "k-pop",
         "orientation": "v",
         "showlegend": true,
         "textposition": "auto",
         "type": "bar",
         "x": [
          "k-pop"
         ],
         "xaxis": "x",
         "y": [
          93
         ],
         "yaxis": "y"
        },
        {
         "alignmentgroup": "True",
         "hovertemplate": "Genre=%{x}<br>Count=%{y}<extra></extra>",
         "legendgroup": "urbano latino",
         "marker": {
          "color": "rgb(190,186,218)",
          "pattern": {
           "shape": ""
          }
         },
         "name": "urbano latino",
         "offsetgroup": "urbano latino",
         "orientation": "v",
         "showlegend": true,
         "textposition": "auto",
         "type": "bar",
         "x": [
          "urbano latino"
         ],
         "xaxis": "x",
         "y": [
          67
         ],
         "yaxis": "y"
        },
        {
         "alignmentgroup": "True",
         "hovertemplate": "Genre=%{x}<br>Count=%{y}<extra></extra>",
         "legendgroup": "rap",
         "marker": {
          "color": "rgb(251,128,114)",
          "pattern": {
           "shape": ""
          }
         },
         "name": "rap",
         "offsetgroup": "rap",
         "orientation": "v",
         "showlegend": true,
         "textposition": "auto",
         "type": "bar",
         "x": [
          "rap"
         ],
         "xaxis": "x",
         "y": [
          59
         ],
         "yaxis": "y"
        },
        {
         "alignmentgroup": "True",
         "hovertemplate": "Genre=%{x}<br>Count=%{y}<extra></extra>",
         "legendgroup": "reggaeton",
         "marker": {
          "color": "rgb(128,177,211)",
          "pattern": {
           "shape": ""
          }
         },
         "name": "reggaeton",
         "offsetgroup": "reggaeton",
         "orientation": "v",
         "showlegend": true,
         "textposition": "auto",
         "type": "bar",
         "x": [
          "reggaeton"
         ],
         "xaxis": "x",
         "y": [
          52
         ],
         "yaxis": "y"
        },
        {
         "alignmentgroup": "True",
         "hovertemplate": "Genre=%{x}<br>Count=%{y}<extra></extra>",
         "legendgroup": "trap latino",
         "marker": {
          "color": "rgb(253,180,98)",
          "pattern": {
           "shape": ""
          }
         },
         "name": "trap latino",
         "offsetgroup": "trap latino",
         "orientation": "v",
         "showlegend": true,
         "textposition": "auto",
         "type": "bar",
         "x": [
          "trap latino"
         ],
         "xaxis": "x",
         "y": [
          50
         ],
         "yaxis": "y"
        },
        {
         "alignmentgroup": "True",
         "hovertemplate": "Genre=%{x}<br>Count=%{y}<extra></extra>",
         "legendgroup": "french hip hop",
         "marker": {
          "color": "rgb(179,222,105)",
          "pattern": {
           "shape": ""
          }
         },
         "name": "french hip hop",
         "offsetgroup": "french hip hop",
         "orientation": "v",
         "showlegend": true,
         "textposition": "auto",
         "type": "bar",
         "x": [
          "french hip hop"
         ],
         "xaxis": "x",
         "y": [
          45
         ],
         "yaxis": "y"
        },
        {
         "alignmentgroup": "True",
         "hovertemplate": "Genre=%{x}<br>Count=%{y}<extra></extra>",
         "legendgroup": "dance pop",
         "marker": {
          "color": "rgb(252,205,229)",
          "pattern": {
           "shape": ""
          }
         },
         "name": "dance pop",
         "offsetgroup": "dance pop",
         "orientation": "v",
         "showlegend": true,
         "textposition": "auto",
         "type": "bar",
         "x": [
          "dance pop"
         ],
         "xaxis": "x",
         "y": [
          43
         ],
         "yaxis": "y"
        },
        {
         "alignmentgroup": "True",
         "hovertemplate": "Genre=%{x}<br>Count=%{y}<extra></extra>",
         "legendgroup": "k-pop boy group",
         "marker": {
          "color": "rgb(217,217,217)",
          "pattern": {
           "shape": ""
          }
         },
         "name": "k-pop boy group",
         "offsetgroup": "k-pop boy group",
         "orientation": "v",
         "showlegend": true,
         "textposition": "auto",
         "type": "bar",
         "x": [
          "k-pop boy group"
         ],
         "xaxis": "x",
         "y": [
          38
         ],
         "yaxis": "y"
        },
        {
         "alignmentgroup": "True",
         "hovertemplate": "Genre=%{x}<br>Count=%{y}<extra></extra>",
         "legendgroup": "hip hop",
         "marker": {
          "color": "rgb(188,128,189)",
          "pattern": {
           "shape": ""
          }
         },
         "name": "hip hop",
         "offsetgroup": "hip hop",
         "orientation": "v",
         "showlegend": true,
         "textposition": "auto",
         "type": "bar",
         "x": [
          "hip hop"
         ],
         "xaxis": "x",
         "y": [
          37
         ],
         "yaxis": "y"
        }
       ],
       "layout": {
        "barmode": "relative",
        "height": 600,
        "legend": {
         "title": {
          "text": "Genre"
         },
         "tracegroupgap": 0
        },
        "showlegend": false,
        "template": {
         "data": {
          "bar": [
           {
            "error_x": {
             "color": "#2a3f5f"
            },
            "error_y": {
             "color": "#2a3f5f"
            },
            "marker": {
             "line": {
              "color": "#E5ECF6",
              "width": 0.5
             },
             "pattern": {
              "fillmode": "overlay",
              "size": 10,
              "solidity": 0.2
             }
            },
            "type": "bar"
           }
          ],
          "barpolar": [
           {
            "marker": {
             "line": {
              "color": "#E5ECF6",
              "width": 0.5
             },
             "pattern": {
              "fillmode": "overlay",
              "size": 10,
              "solidity": 0.2
             }
            },
            "type": "barpolar"
           }
          ],
          "carpet": [
           {
            "aaxis": {
             "endlinecolor": "#2a3f5f",
             "gridcolor": "white",
             "linecolor": "white",
             "minorgridcolor": "white",
             "startlinecolor": "#2a3f5f"
            },
            "baxis": {
             "endlinecolor": "#2a3f5f",
             "gridcolor": "white",
             "linecolor": "white",
             "minorgridcolor": "white",
             "startlinecolor": "#2a3f5f"
            },
            "type": "carpet"
           }
          ],
          "choropleth": [
           {
            "colorbar": {
             "outlinewidth": 0,
             "ticks": ""
            },
            "type": "choropleth"
           }
          ],
          "contour": [
           {
            "colorbar": {
             "outlinewidth": 0,
             "ticks": ""
            },
            "colorscale": [
             [
              0,
              "#0d0887"
             ],
             [
              0.1111111111111111,
              "#46039f"
             ],
             [
              0.2222222222222222,
              "#7201a8"
             ],
             [
              0.3333333333333333,
              "#9c179e"
             ],
             [
              0.4444444444444444,
              "#bd3786"
             ],
             [
              0.5555555555555556,
              "#d8576b"
             ],
             [
              0.6666666666666666,
              "#ed7953"
             ],
             [
              0.7777777777777778,
              "#fb9f3a"
             ],
             [
              0.8888888888888888,
              "#fdca26"
             ],
             [
              1,
              "#f0f921"
             ]
            ],
            "type": "contour"
           }
          ],
          "contourcarpet": [
           {
            "colorbar": {
             "outlinewidth": 0,
             "ticks": ""
            },
            "type": "contourcarpet"
           }
          ],
          "heatmap": [
           {
            "colorbar": {
             "outlinewidth": 0,
             "ticks": ""
            },
            "colorscale": [
             [
              0,
              "#0d0887"
             ],
             [
              0.1111111111111111,
              "#46039f"
             ],
             [
              0.2222222222222222,
              "#7201a8"
             ],
             [
              0.3333333333333333,
              "#9c179e"
             ],
             [
              0.4444444444444444,
              "#bd3786"
             ],
             [
              0.5555555555555556,
              "#d8576b"
             ],
             [
              0.6666666666666666,
              "#ed7953"
             ],
             [
              0.7777777777777778,
              "#fb9f3a"
             ],
             [
              0.8888888888888888,
              "#fdca26"
             ],
             [
              1,
              "#f0f921"
             ]
            ],
            "type": "heatmap"
           }
          ],
          "heatmapgl": [
           {
            "colorbar": {
             "outlinewidth": 0,
             "ticks": ""
            },
            "colorscale": [
             [
              0,
              "#0d0887"
             ],
             [
              0.1111111111111111,
              "#46039f"
             ],
             [
              0.2222222222222222,
              "#7201a8"
             ],
             [
              0.3333333333333333,
              "#9c179e"
             ],
             [
              0.4444444444444444,
              "#bd3786"
             ],
             [
              0.5555555555555556,
              "#d8576b"
             ],
             [
              0.6666666666666666,
              "#ed7953"
             ],
             [
              0.7777777777777778,
              "#fb9f3a"
             ],
             [
              0.8888888888888888,
              "#fdca26"
             ],
             [
              1,
              "#f0f921"
             ]
            ],
            "type": "heatmapgl"
           }
          ],
          "histogram": [
           {
            "marker": {
             "pattern": {
              "fillmode": "overlay",
              "size": 10,
              "solidity": 0.2
             }
            },
            "type": "histogram"
           }
          ],
          "histogram2d": [
           {
            "colorbar": {
             "outlinewidth": 0,
             "ticks": ""
            },
            "colorscale": [
             [
              0,
              "#0d0887"
             ],
             [
              0.1111111111111111,
              "#46039f"
             ],
             [
              0.2222222222222222,
              "#7201a8"
             ],
             [
              0.3333333333333333,
              "#9c179e"
             ],
             [
              0.4444444444444444,
              "#bd3786"
             ],
             [
              0.5555555555555556,
              "#d8576b"
             ],
             [
              0.6666666666666666,
              "#ed7953"
             ],
             [
              0.7777777777777778,
              "#fb9f3a"
             ],
             [
              0.8888888888888888,
              "#fdca26"
             ],
             [
              1,
              "#f0f921"
             ]
            ],
            "type": "histogram2d"
           }
          ],
          "histogram2dcontour": [
           {
            "colorbar": {
             "outlinewidth": 0,
             "ticks": ""
            },
            "colorscale": [
             [
              0,
              "#0d0887"
             ],
             [
              0.1111111111111111,
              "#46039f"
             ],
             [
              0.2222222222222222,
              "#7201a8"
             ],
             [
              0.3333333333333333,
              "#9c179e"
             ],
             [
              0.4444444444444444,
              "#bd3786"
             ],
             [
              0.5555555555555556,
              "#d8576b"
             ],
             [
              0.6666666666666666,
              "#ed7953"
             ],
             [
              0.7777777777777778,
              "#fb9f3a"
             ],
             [
              0.8888888888888888,
              "#fdca26"
             ],
             [
              1,
              "#f0f921"
             ]
            ],
            "type": "histogram2dcontour"
           }
          ],
          "mesh3d": [
           {
            "colorbar": {
             "outlinewidth": 0,
             "ticks": ""
            },
            "type": "mesh3d"
           }
          ],
          "parcoords": [
           {
            "line": {
             "colorbar": {
              "outlinewidth": 0,
              "ticks": ""
             }
            },
            "type": "parcoords"
           }
          ],
          "pie": [
           {
            "automargin": true,
            "type": "pie"
           }
          ],
          "scatter": [
           {
            "fillpattern": {
             "fillmode": "overlay",
             "size": 10,
             "solidity": 0.2
            },
            "type": "scatter"
           }
          ],
          "scatter3d": [
           {
            "line": {
             "colorbar": {
              "outlinewidth": 0,
              "ticks": ""
             }
            },
            "marker": {
             "colorbar": {
              "outlinewidth": 0,
              "ticks": ""
             }
            },
            "type": "scatter3d"
           }
          ],
          "scattercarpet": [
           {
            "marker": {
             "colorbar": {
              "outlinewidth": 0,
              "ticks": ""
             }
            },
            "type": "scattercarpet"
           }
          ],
          "scattergeo": [
           {
            "marker": {
             "colorbar": {
              "outlinewidth": 0,
              "ticks": ""
             }
            },
            "type": "scattergeo"
           }
          ],
          "scattergl": [
           {
            "marker": {
             "colorbar": {
              "outlinewidth": 0,
              "ticks": ""
             }
            },
            "type": "scattergl"
           }
          ],
          "scattermapbox": [
           {
            "marker": {
             "colorbar": {
              "outlinewidth": 0,
              "ticks": ""
             }
            },
            "type": "scattermapbox"
           }
          ],
          "scatterpolar": [
           {
            "marker": {
             "colorbar": {
              "outlinewidth": 0,
              "ticks": ""
             }
            },
            "type": "scatterpolar"
           }
          ],
          "scatterpolargl": [
           {
            "marker": {
             "colorbar": {
              "outlinewidth": 0,
              "ticks": ""
             }
            },
            "type": "scatterpolargl"
           }
          ],
          "scatterternary": [
           {
            "marker": {
             "colorbar": {
              "outlinewidth": 0,
              "ticks": ""
             }
            },
            "type": "scatterternary"
           }
          ],
          "surface": [
           {
            "colorbar": {
             "outlinewidth": 0,
             "ticks": ""
            },
            "colorscale": [
             [
              0,
              "#0d0887"
             ],
             [
              0.1111111111111111,
              "#46039f"
             ],
             [
              0.2222222222222222,
              "#7201a8"
             ],
             [
              0.3333333333333333,
              "#9c179e"
             ],
             [
              0.4444444444444444,
              "#bd3786"
             ],
             [
              0.5555555555555556,
              "#d8576b"
             ],
             [
              0.6666666666666666,
              "#ed7953"
             ],
             [
              0.7777777777777778,
              "#fb9f3a"
             ],
             [
              0.8888888888888888,
              "#fdca26"
             ],
             [
              1,
              "#f0f921"
             ]
            ],
            "type": "surface"
           }
          ],
          "table": [
           {
            "cells": {
             "fill": {
              "color": "#EBF0F8"
             },
             "line": {
              "color": "white"
             }
            },
            "header": {
             "fill": {
              "color": "#C8D4E3"
             },
             "line": {
              "color": "white"
             }
            },
            "type": "table"
           }
          ]
         },
         "layout": {
          "annotationdefaults": {
           "arrowcolor": "#2a3f5f",
           "arrowhead": 0,
           "arrowwidth": 1
          },
          "autotypenumbers": "strict",
          "coloraxis": {
           "colorbar": {
            "outlinewidth": 0,
            "ticks": ""
           }
          },
          "colorscale": {
           "diverging": [
            [
             0,
             "#8e0152"
            ],
            [
             0.1,
             "#c51b7d"
            ],
            [
             0.2,
             "#de77ae"
            ],
            [
             0.3,
             "#f1b6da"
            ],
            [
             0.4,
             "#fde0ef"
            ],
            [
             0.5,
             "#f7f7f7"
            ],
            [
             0.6,
             "#e6f5d0"
            ],
            [
             0.7,
             "#b8e186"
            ],
            [
             0.8,
             "#7fbc41"
            ],
            [
             0.9,
             "#4d9221"
            ],
            [
             1,
             "#276419"
            ]
           ],
           "sequential": [
            [
             0,
             "#0d0887"
            ],
            [
             0.1111111111111111,
             "#46039f"
            ],
            [
             0.2222222222222222,
             "#7201a8"
            ],
            [
             0.3333333333333333,
             "#9c179e"
            ],
            [
             0.4444444444444444,
             "#bd3786"
            ],
            [
             0.5555555555555556,
             "#d8576b"
            ],
            [
             0.6666666666666666,
             "#ed7953"
            ],
            [
             0.7777777777777778,
             "#fb9f3a"
            ],
            [
             0.8888888888888888,
             "#fdca26"
            ],
            [
             1,
             "#f0f921"
            ]
           ],
           "sequentialminus": [
            [
             0,
             "#0d0887"
            ],
            [
             0.1111111111111111,
             "#46039f"
            ],
            [
             0.2222222222222222,
             "#7201a8"
            ],
            [
             0.3333333333333333,
             "#9c179e"
            ],
            [
             0.4444444444444444,
             "#bd3786"
            ],
            [
             0.5555555555555556,
             "#d8576b"
            ],
            [
             0.6666666666666666,
             "#ed7953"
            ],
            [
             0.7777777777777778,
             "#fb9f3a"
            ],
            [
             0.8888888888888888,
             "#fdca26"
            ],
            [
             1,
             "#f0f921"
            ]
           ]
          },
          "colorway": [
           "#636efa",
           "#EF553B",
           "#00cc96",
           "#ab63fa",
           "#FFA15A",
           "#19d3f3",
           "#FF6692",
           "#B6E880",
           "#FF97FF",
           "#FECB52"
          ],
          "font": {
           "color": "#2a3f5f"
          },
          "geo": {
           "bgcolor": "white",
           "lakecolor": "white",
           "landcolor": "#E5ECF6",
           "showlakes": true,
           "showland": true,
           "subunitcolor": "white"
          },
          "hoverlabel": {
           "align": "left"
          },
          "hovermode": "closest",
          "mapbox": {
           "style": "light"
          },
          "paper_bgcolor": "white",
          "plot_bgcolor": "#E5ECF6",
          "polar": {
           "angularaxis": {
            "gridcolor": "white",
            "linecolor": "white",
            "ticks": ""
           },
           "bgcolor": "#E5ECF6",
           "radialaxis": {
            "gridcolor": "white",
            "linecolor": "white",
            "ticks": ""
           }
          },
          "scene": {
           "xaxis": {
            "backgroundcolor": "#E5ECF6",
            "gridcolor": "white",
            "gridwidth": 2,
            "linecolor": "white",
            "showbackground": true,
            "ticks": "",
            "zerolinecolor": "white"
           },
           "yaxis": {
            "backgroundcolor": "#E5ECF6",
            "gridcolor": "white",
            "gridwidth": 2,
            "linecolor": "white",
            "showbackground": true,
            "ticks": "",
            "zerolinecolor": "white"
           },
           "zaxis": {
            "backgroundcolor": "#E5ECF6",
            "gridcolor": "white",
            "gridwidth": 2,
            "linecolor": "white",
            "showbackground": true,
            "ticks": "",
            "zerolinecolor": "white"
           }
          },
          "shapedefaults": {
           "line": {
            "color": "#2a3f5f"
           }
          },
          "ternary": {
           "aaxis": {
            "gridcolor": "white",
            "linecolor": "white",
            "ticks": ""
           },
           "baxis": {
            "gridcolor": "white",
            "linecolor": "white",
            "ticks": ""
           },
           "bgcolor": "#E5ECF6",
           "caxis": {
            "gridcolor": "white",
            "linecolor": "white",
            "ticks": ""
           }
          },
          "title": {
           "x": 0.05
          },
          "xaxis": {
           "automargin": true,
           "gridcolor": "white",
           "linecolor": "white",
           "ticks": "",
           "title": {
            "standoff": 15
           },
           "zerolinecolor": "white",
           "zerolinewidth": 2
          },
          "yaxis": {
           "automargin": true,
           "gridcolor": "white",
           "linecolor": "white",
           "ticks": "",
           "title": {
            "standoff": 15
           },
           "zerolinecolor": "white",
           "zerolinewidth": 2
          }
         }
        },
        "title": {
         "text": "Count of Genres for Artists"
        },
        "width": 800,
        "xaxis": {
         "anchor": "y",
         "autorange": true,
         "categoryarray": [
          "pop",
          "k-pop",
          "urbano latino",
          "rap",
          "reggaeton",
          "trap latino",
          "french hip hop",
          "dance pop",
          "k-pop boy group",
          "hip hop"
         ],
         "categoryorder": "array",
         "domain": [
          0,
          1
         ],
         "range": [
          -0.5,
          9.5
         ],
         "title": {
          "text": "Genre"
         },
         "type": "category"
        },
        "yaxis": {
         "anchor": "x",
         "autorange": true,
         "domain": [
          0,
          1
         ],
         "range": [
          0,
          108.42105263157895
         ],
         "title": {
          "text": "Count"
         },
         "type": "linear"
        }
       }
      },
      "image/png": "[encoded data removed]"
     },
     "metadata": {},
     "output_type": "display_data"
    }
   ],
   "source": [
    "artist_genres_filtered = {k: v for k, v in artist_genres.items() if v}\n",
    "\n",
    "# Flatten the genres list\n",
    "genres_flat = [genre for sublist in artist_genres_filtered.values() for genre in sublist]\n",
    "\n",
    "# Create a DataFrame with the flattened genres\n",
    "df_genres = pd.DataFrame(genres_flat, columns=['genre'])\n",
    "\n",
    "# Group by genre and count the occurrences\n",
    "genre_counts = df_genres['genre'].value_counts().reset_index().head(10)\n",
    "genre_counts.columns = ['genre', 'count']\n",
    "\n",
    "# Create a Plotly bar graph\n",
    "fig = px.bar(genre_counts, x='genre', y='count', color='genre',\n",
    "             title='Count of Genres for Artists',\n",
    "             labels={'genre': 'Genre', 'count': 'Count'},\n",
    "             color_discrete_sequence=px.colors.qualitative.Set3)\n",
    "fig.update_layout(height=600, width=800, showlegend=False)\n",
    "fig.show()"
   ]
  },
  {
   "cell_type": "markdown",
   "id": "3a975b73-7a92-4a10-bbfd-bc95b2b1f9fc",
   "metadata": {},
   "source": [
    "Findings: My most listened to genres seem to follow the pattern of my most listened to songs and artists<br>There are some oddities, rap and french hip hop, as none of the artists or songs shown in the previous graphs are French and while some of the artists I listen to have songs with rap in them I wouldn't say the artists themselves would be considered part of the rap genre<br>The only thing I could think of is that my brother and I share this account and he does listen to those 2 genres, it's odd that none of the songs or artists he listens to made into the other top graphs"
   ]
  },
  {
   "cell_type": "markdown",
   "id": "8c3ea923-9d09-4ca7-a42a-719402846fb4",
   "metadata": {},
   "source": [
    "# Goal: How many songs are on each playlist?"
   ]
  },
  {
   "cell_type": "code",
   "execution_count": 27,
   "id": "973f2656-81b3-4113-ac4e-aa099fe916d9",
   "metadata": {
    "scrolled": true
   },
   "outputs": [
    {
     "data": {
      "text/html": [
       "<div>\n",
       "<style scoped>\n",
       "    .dataframe tbody tr th:only-of-type {\n",
       "        vertical-align: middle;\n",
       "    }\n",
       "\n",
       "    .dataframe tbody tr th {\n",
       "        vertical-align: top;\n",
       "    }\n",
       "\n",
       "    .dataframe thead th {\n",
       "        text-align: right;\n",
       "    }\n",
       "</style>\n",
       "<table border=\"1\" class=\"dataframe\">\n",
       "  <thead>\n",
       "    <tr style=\"text-align: right;\">\n",
       "      <th></th>\n",
       "      <th>playlists</th>\n",
       "      <th>name</th>\n",
       "      <th>lastModifiedDate</th>\n",
       "      <th>items</th>\n",
       "      <th>track</th>\n",
       "      <th>trackName</th>\n",
       "      <th>artistName</th>\n",
       "      <th>albumName</th>\n",
       "      <th>trackUri</th>\n",
       "      <th>episode</th>\n",
       "      <th>localTrack</th>\n",
       "      <th>addedDate</th>\n",
       "      <th>description</th>\n",
       "      <th>numberOfFollowers</th>\n",
       "    </tr>\n",
       "  </thead>\n",
       "  <tbody>\n",
       "    <tr>\n",
       "      <th>0</th>\n",
       "      <td>NaN</td>\n",
       "      <td>português</td>\n",
       "      <td>2024-02-28</td>\n",
       "      <td>NaN</td>\n",
       "      <td>NaN</td>\n",
       "      <td>Seja Agora</td>\n",
       "      <td>Monique Kessous</td>\n",
       "      <td>Dentro de Mim Cabe o Mundo</td>\n",
       "      <td>spotify:track:2rPTHxU7nJJxPkVM5Qnd2U</td>\n",
       "      <td>NaN</td>\n",
       "      <td>NaN</td>\n",
       "      <td>2024-02-28</td>\n",
       "      <td>NaN</td>\n",
       "      <td>0.0</td>\n",
       "    </tr>\n",
       "    <tr>\n",
       "      <th>1</th>\n",
       "      <td>NaN</td>\n",
       "      <td>karaoke songs</td>\n",
       "      <td>2024-01-09</td>\n",
       "      <td>NaN</td>\n",
       "      <td>NaN</td>\n",
       "      <td>Remember</td>\n",
       "      <td>KATIE</td>\n",
       "      <td>Remember</td>\n",
       "      <td>spotify:track:0GIsLh8ly8RuFc2pZshRPl</td>\n",
       "      <td>NaN</td>\n",
       "      <td>NaN</td>\n",
       "      <td>2024-01-09</td>\n",
       "      <td>NaN</td>\n",
       "      <td>0.0</td>\n",
       "    </tr>\n",
       "    <tr>\n",
       "      <th>2</th>\n",
       "      <td>NaN</td>\n",
       "      <td>NaN</td>\n",
       "      <td>NaN</td>\n",
       "      <td>NaN</td>\n",
       "      <td>NaN</td>\n",
       "      <td>3D (feat. Jack Harlow)</td>\n",
       "      <td>Jung Kook</td>\n",
       "      <td>3D (feat. Jack Harlow)</td>\n",
       "      <td>spotify:track:6ehWdR7cGDXnT7aKEASJxE</td>\n",
       "      <td>NaN</td>\n",
       "      <td>NaN</td>\n",
       "      <td>2024-01-09</td>\n",
       "      <td>NaN</td>\n",
       "      <td>NaN</td>\n",
       "    </tr>\n",
       "    <tr>\n",
       "      <th>3</th>\n",
       "      <td>NaN</td>\n",
       "      <td>Sing it!</td>\n",
       "      <td>2023-03-02</td>\n",
       "      <td>NaN</td>\n",
       "      <td>NaN</td>\n",
       "      <td>Yo Perreo Sola</td>\n",
       "      <td>Bad Bunny</td>\n",
       "      <td>YHLQMDLG</td>\n",
       "      <td>spotify:track:0SqqAgdovOE24BzxIClpjw</td>\n",
       "      <td>NaN</td>\n",
       "      <td>NaN</td>\n",
       "      <td>2023-03-02</td>\n",
       "      <td>NaN</td>\n",
       "      <td>0.0</td>\n",
       "    </tr>\n",
       "    <tr>\n",
       "      <th>4</th>\n",
       "      <td>NaN</td>\n",
       "      <td>NaN</td>\n",
       "      <td>NaN</td>\n",
       "      <td>NaN</td>\n",
       "      <td>NaN</td>\n",
       "      <td>Fantasmas</td>\n",
       "      <td>Ambar Lucid</td>\n",
       "      <td>Garden of Lucid</td>\n",
       "      <td>spotify:track:0itukH4hI1pxOsyRQRQ28f</td>\n",
       "      <td>NaN</td>\n",
       "      <td>NaN</td>\n",
       "      <td>2023-03-02</td>\n",
       "      <td>NaN</td>\n",
       "      <td>NaN</td>\n",
       "    </tr>\n",
       "    <tr>\n",
       "      <th>...</th>\n",
       "      <td>...</td>\n",
       "      <td>...</td>\n",
       "      <td>...</td>\n",
       "      <td>...</td>\n",
       "      <td>...</td>\n",
       "      <td>...</td>\n",
       "      <td>...</td>\n",
       "      <td>...</td>\n",
       "      <td>...</td>\n",
       "      <td>...</td>\n",
       "      <td>...</td>\n",
       "      <td>...</td>\n",
       "      <td>...</td>\n",
       "      <td>...</td>\n",
       "    </tr>\n",
       "    <tr>\n",
       "      <th>2909</th>\n",
       "      <td>NaN</td>\n",
       "      <td>NaN</td>\n",
       "      <td>NaN</td>\n",
       "      <td>NaN</td>\n",
       "      <td>NaN</td>\n",
       "      <td>Ce Soir</td>\n",
       "      <td>Duckwrth</td>\n",
       "      <td>Ce Soir</td>\n",
       "      <td>spotify:track:207wpnoruEx0FoLj2Z8cQj</td>\n",
       "      <td>NaN</td>\n",
       "      <td>NaN</td>\n",
       "      <td>2022-08-09</td>\n",
       "      <td>NaN</td>\n",
       "      <td>NaN</td>\n",
       "    </tr>\n",
       "    <tr>\n",
       "      <th>2910</th>\n",
       "      <td>NaN</td>\n",
       "      <td>NaN</td>\n",
       "      <td>NaN</td>\n",
       "      <td>NaN</td>\n",
       "      <td>NaN</td>\n",
       "      <td>LORD FORGIVE ME</td>\n",
       "      <td>Tobe Nwigwe</td>\n",
       "      <td>LORD FORGIVE ME</td>\n",
       "      <td>spotify:track:3PnDz7t38mzVZaImRrSknW</td>\n",
       "      <td>NaN</td>\n",
       "      <td>NaN</td>\n",
       "      <td>2022-08-09</td>\n",
       "      <td>NaN</td>\n",
       "      <td>NaN</td>\n",
       "    </tr>\n",
       "    <tr>\n",
       "      <th>2911</th>\n",
       "      <td>NaN</td>\n",
       "      <td>NaN</td>\n",
       "      <td>NaN</td>\n",
       "      <td>NaN</td>\n",
       "      <td>NaN</td>\n",
       "      <td>on the street (with J. Cole)</td>\n",
       "      <td>j-hope</td>\n",
       "      <td>on the street (with J. Cole)</td>\n",
       "      <td>spotify:track:5wxYxygyHpbgv0EXZuqb9V</td>\n",
       "      <td>NaN</td>\n",
       "      <td>NaN</td>\n",
       "      <td>2023-04-17</td>\n",
       "      <td>NaN</td>\n",
       "      <td>NaN</td>\n",
       "    </tr>\n",
       "    <tr>\n",
       "      <th>2912</th>\n",
       "      <td>NaN</td>\n",
       "      <td>NaN</td>\n",
       "      <td>NaN</td>\n",
       "      <td>NaN</td>\n",
       "      <td>NaN</td>\n",
       "      <td>All My Life (feat. J. Cole)</td>\n",
       "      <td>Lil Durk</td>\n",
       "      <td>Almost Healed</td>\n",
       "      <td>spotify:track:6T7FXSuXykeGktMLGp8WgE</td>\n",
       "      <td>NaN</td>\n",
       "      <td>NaN</td>\n",
       "      <td>2023-06-30</td>\n",
       "      <td>NaN</td>\n",
       "      <td>NaN</td>\n",
       "    </tr>\n",
       "    <tr>\n",
       "      <th>2913</th>\n",
       "      <td>NaN</td>\n",
       "      <td>NaN</td>\n",
       "      <td>NaN</td>\n",
       "      <td>NaN</td>\n",
       "      <td>NaN</td>\n",
       "      <td>Excuse Me Miss</td>\n",
       "      <td>JAY-Z</td>\n",
       "      <td>The Blueprint 2: The Gift &amp; The Curse</td>\n",
       "      <td>spotify:track:0ZHu7jkSSrT0eK4OxuG4O5</td>\n",
       "      <td>NaN</td>\n",
       "      <td>NaN</td>\n",
       "      <td>2023-10-07</td>\n",
       "      <td>NaN</td>\n",
       "      <td>NaN</td>\n",
       "    </tr>\n",
       "  </tbody>\n",
       "</table>\n",
       "<p>2914 rows × 14 columns</p>\n",
       "</div>"
      ],
      "text/plain": [
       "      playlists           name lastModifiedDate  items  track  \\\n",
       "0           NaN      português       2024-02-28    NaN    NaN   \n",
       "1           NaN  karaoke songs       2024-01-09    NaN    NaN   \n",
       "2           NaN            NaN              NaN    NaN    NaN   \n",
       "3           NaN       Sing it!       2023-03-02    NaN    NaN   \n",
       "4           NaN            NaN              NaN    NaN    NaN   \n",
       "...         ...            ...              ...    ...    ...   \n",
       "2909        NaN            NaN              NaN    NaN    NaN   \n",
       "2910        NaN            NaN              NaN    NaN    NaN   \n",
       "2911        NaN            NaN              NaN    NaN    NaN   \n",
       "2912        NaN            NaN              NaN    NaN    NaN   \n",
       "2913        NaN            NaN              NaN    NaN    NaN   \n",
       "\n",
       "                         trackName       artistName  \\\n",
       "0                       Seja Agora  Monique Kessous   \n",
       "1                         Remember            KATIE   \n",
       "2           3D (feat. Jack Harlow)        Jung Kook   \n",
       "3                   Yo Perreo Sola        Bad Bunny   \n",
       "4                        Fantasmas      Ambar Lucid   \n",
       "...                            ...              ...   \n",
       "2909                       Ce Soir         Duckwrth   \n",
       "2910               LORD FORGIVE ME      Tobe Nwigwe   \n",
       "2911  on the street (with J. Cole)           j-hope   \n",
       "2912   All My Life (feat. J. Cole)         Lil Durk   \n",
       "2913                Excuse Me Miss            JAY-Z   \n",
       "\n",
       "                                  albumName  \\\n",
       "0                Dentro de Mim Cabe o Mundo   \n",
       "1                                  Remember   \n",
       "2                    3D (feat. Jack Harlow)   \n",
       "3                                  YHLQMDLG   \n",
       "4                           Garden of Lucid   \n",
       "...                                     ...   \n",
       "2909                                Ce Soir   \n",
       "2910                        LORD FORGIVE ME   \n",
       "2911           on the street (with J. Cole)   \n",
       "2912                          Almost Healed   \n",
       "2913  The Blueprint 2: The Gift & The Curse   \n",
       "\n",
       "                                  trackUri  episode  localTrack   addedDate  \\\n",
       "0     spotify:track:2rPTHxU7nJJxPkVM5Qnd2U      NaN         NaN  2024-02-28   \n",
       "1     spotify:track:0GIsLh8ly8RuFc2pZshRPl      NaN         NaN  2024-01-09   \n",
       "2     spotify:track:6ehWdR7cGDXnT7aKEASJxE      NaN         NaN  2024-01-09   \n",
       "3     spotify:track:0SqqAgdovOE24BzxIClpjw      NaN         NaN  2023-03-02   \n",
       "4     spotify:track:0itukH4hI1pxOsyRQRQ28f      NaN         NaN  2023-03-02   \n",
       "...                                    ...      ...         ...         ...   \n",
       "2909  spotify:track:207wpnoruEx0FoLj2Z8cQj      NaN         NaN  2022-08-09   \n",
       "2910  spotify:track:3PnDz7t38mzVZaImRrSknW      NaN         NaN  2022-08-09   \n",
       "2911  spotify:track:5wxYxygyHpbgv0EXZuqb9V      NaN         NaN  2023-04-17   \n",
       "2912  spotify:track:6T7FXSuXykeGktMLGp8WgE      NaN         NaN  2023-06-30   \n",
       "2913  spotify:track:0ZHu7jkSSrT0eK4OxuG4O5      NaN         NaN  2023-10-07   \n",
       "\n",
       "     description  numberOfFollowers  \n",
       "0            NaN                0.0  \n",
       "1            NaN                0.0  \n",
       "2            NaN                NaN  \n",
       "3            NaN                0.0  \n",
       "4            NaN                NaN  \n",
       "...          ...                ...  \n",
       "2909         NaN                NaN  \n",
       "2910         NaN                NaN  \n",
       "2911         NaN                NaN  \n",
       "2912         NaN                NaN  \n",
       "2913         NaN                NaN  \n",
       "\n",
       "[2914 rows x 14 columns]"
      ]
     },
     "execution_count": 27,
     "metadata": {},
     "output_type": "execute_result"
    }
   ],
   "source": [
    "# Upload playlist dataset (no changes made in excel)\n",
    "playlists = pd.read_excel('C:/Users/pjsol/Downloads/Playlist1.json.xlsx')\n",
    "playlists"
   ]
  },
  {
   "cell_type": "code",
   "execution_count": 28,
   "id": "955256f9-6cd5-45b2-94b0-b1b095bb43ce",
   "metadata": {},
   "outputs": [
    {
     "data": {
      "text/plain": [
       "playlists               0\n",
       "name                   10\n",
       "lastModifiedDate       10\n",
       "items                   0\n",
       "track                   0\n",
       "trackName            2914\n",
       "artistName           2914\n",
       "albumName            2914\n",
       "trackUri             2914\n",
       "episode                 0\n",
       "localTrack              0\n",
       "addedDate            2914\n",
       "description             1\n",
       "numberOfFollowers      10\n",
       "dtype: int64"
      ]
     },
     "execution_count": 28,
     "metadata": {},
     "output_type": "execute_result"
    }
   ],
   "source": [
    "# Value count of each variable in each column\n",
    "playlists.count()"
   ]
  },
  {
   "cell_type": "code",
   "execution_count": 29,
   "id": "af380460-42f0-49c9-bf2b-25afee1e464c",
   "metadata": {},
   "outputs": [
    {
     "data": {
      "text/plain": [
       "name                  10\n",
       "lastModifiedDate      10\n",
       "trackName           2914\n",
       "artistName          2914\n",
       "albumName           2914\n",
       "addedDate           2914\n",
       "dtype: int64"
      ]
     },
     "execution_count": 29,
     "metadata": {},
     "output_type": "execute_result"
    }
   ],
   "source": [
    "# Remove columns with no information\n",
    "playlists = playlists.drop(['playlists', \n",
    "                            'items', 'track', 'episode', 'trackUri', 'localTrack', 'description', 'numberOfFollowers'], axis = 1)\n",
    "playlists.count()"
   ]
  },
  {
   "cell_type": "code",
   "execution_count": 30,
   "id": "646c7c61-baef-44bb-b108-016172ddd671",
   "metadata": {},
   "outputs": [
    {
     "name": "stdout",
     "output_type": "stream",
     "text": [
      "name\n",
      "lastModifiedDate\n",
      "trackName\n",
      "artistName\n",
      "albumName\n",
      "addedDate\n"
     ]
    }
   ],
   "source": [
    "# Print the column names\n",
    "for col in playlists.columns:\n",
    "    print(col)"
   ]
  },
  {
   "cell_type": "code",
   "execution_count": 31,
   "id": "b15034b6-cca7-4353-8e7d-1fb94fb1ef05",
   "metadata": {},
   "outputs": [
    {
     "data": {
      "text/html": [
       "<div>\n",
       "<style scoped>\n",
       "    .dataframe tbody tr th:only-of-type {\n",
       "        vertical-align: middle;\n",
       "    }\n",
       "\n",
       "    .dataframe tbody tr th {\n",
       "        vertical-align: top;\n",
       "    }\n",
       "\n",
       "    .dataframe thead th {\n",
       "        text-align: right;\n",
       "    }\n",
       "</style>\n",
       "<table border=\"1\" class=\"dataframe\">\n",
       "  <thead>\n",
       "    <tr style=\"text-align: right;\">\n",
       "      <th></th>\n",
       "      <th>name</th>\n",
       "      <th>lastModifiedDate</th>\n",
       "      <th>trackName</th>\n",
       "      <th>artistName</th>\n",
       "      <th>albumName</th>\n",
       "      <th>addedDate</th>\n",
       "    </tr>\n",
       "  </thead>\n",
       "  <tbody>\n",
       "    <tr>\n",
       "      <th>0</th>\n",
       "      <td>português</td>\n",
       "      <td>2024-02-28</td>\n",
       "      <td>Seja Agora</td>\n",
       "      <td>Monique Kessous</td>\n",
       "      <td>Dentro de Mim Cabe o Mundo</td>\n",
       "      <td>2024-02-28</td>\n",
       "    </tr>\n",
       "    <tr>\n",
       "      <th>1</th>\n",
       "      <td>karaoke songs</td>\n",
       "      <td>2024-01-09</td>\n",
       "      <td>Remember</td>\n",
       "      <td>KATIE</td>\n",
       "      <td>Remember</td>\n",
       "      <td>2024-01-09</td>\n",
       "    </tr>\n",
       "    <tr>\n",
       "      <th>2</th>\n",
       "      <td>NaN</td>\n",
       "      <td>NaN</td>\n",
       "      <td>3D (feat. Jack Harlow)</td>\n",
       "      <td>Jung Kook</td>\n",
       "      <td>3D (feat. Jack Harlow)</td>\n",
       "      <td>2024-01-09</td>\n",
       "    </tr>\n",
       "    <tr>\n",
       "      <th>3</th>\n",
       "      <td>Sing it!</td>\n",
       "      <td>2023-03-02</td>\n",
       "      <td>Yo Perreo Sola</td>\n",
       "      <td>Bad Bunny</td>\n",
       "      <td>YHLQMDLG</td>\n",
       "      <td>2023-03-02</td>\n",
       "    </tr>\n",
       "    <tr>\n",
       "      <th>4</th>\n",
       "      <td>NaN</td>\n",
       "      <td>NaN</td>\n",
       "      <td>Fantasmas</td>\n",
       "      <td>Ambar Lucid</td>\n",
       "      <td>Garden of Lucid</td>\n",
       "      <td>2023-03-02</td>\n",
       "    </tr>\n",
       "    <tr>\n",
       "      <th>...</th>\n",
       "      <td>...</td>\n",
       "      <td>...</td>\n",
       "      <td>...</td>\n",
       "      <td>...</td>\n",
       "      <td>...</td>\n",
       "      <td>...</td>\n",
       "    </tr>\n",
       "    <tr>\n",
       "      <th>2909</th>\n",
       "      <td>NaN</td>\n",
       "      <td>NaN</td>\n",
       "      <td>Ce Soir</td>\n",
       "      <td>Duckwrth</td>\n",
       "      <td>Ce Soir</td>\n",
       "      <td>2022-08-09</td>\n",
       "    </tr>\n",
       "    <tr>\n",
       "      <th>2910</th>\n",
       "      <td>NaN</td>\n",
       "      <td>NaN</td>\n",
       "      <td>LORD FORGIVE ME</td>\n",
       "      <td>Tobe Nwigwe</td>\n",
       "      <td>LORD FORGIVE ME</td>\n",
       "      <td>2022-08-09</td>\n",
       "    </tr>\n",
       "    <tr>\n",
       "      <th>2911</th>\n",
       "      <td>NaN</td>\n",
       "      <td>NaN</td>\n",
       "      <td>on the street (with J. Cole)</td>\n",
       "      <td>j-hope</td>\n",
       "      <td>on the street (with J. Cole)</td>\n",
       "      <td>2023-04-17</td>\n",
       "    </tr>\n",
       "    <tr>\n",
       "      <th>2912</th>\n",
       "      <td>NaN</td>\n",
       "      <td>NaN</td>\n",
       "      <td>All My Life (feat. J. Cole)</td>\n",
       "      <td>Lil Durk</td>\n",
       "      <td>Almost Healed</td>\n",
       "      <td>2023-06-30</td>\n",
       "    </tr>\n",
       "    <tr>\n",
       "      <th>2913</th>\n",
       "      <td>NaN</td>\n",
       "      <td>NaN</td>\n",
       "      <td>Excuse Me Miss</td>\n",
       "      <td>JAY-Z</td>\n",
       "      <td>The Blueprint 2: The Gift &amp; The Curse</td>\n",
       "      <td>2023-10-07</td>\n",
       "    </tr>\n",
       "  </tbody>\n",
       "</table>\n",
       "<p>2914 rows × 6 columns</p>\n",
       "</div>"
      ],
      "text/plain": [
       "               name lastModifiedDate                     trackName  \\\n",
       "0         português       2024-02-28                    Seja Agora   \n",
       "1     karaoke songs       2024-01-09                      Remember   \n",
       "2               NaN              NaN        3D (feat. Jack Harlow)   \n",
       "3          Sing it!       2023-03-02                Yo Perreo Sola   \n",
       "4               NaN              NaN                     Fantasmas   \n",
       "...             ...              ...                           ...   \n",
       "2909            NaN              NaN                       Ce Soir   \n",
       "2910            NaN              NaN               LORD FORGIVE ME   \n",
       "2911            NaN              NaN  on the street (with J. Cole)   \n",
       "2912            NaN              NaN   All My Life (feat. J. Cole)   \n",
       "2913            NaN              NaN                Excuse Me Miss   \n",
       "\n",
       "           artistName                              albumName   addedDate  \n",
       "0     Monique Kessous             Dentro de Mim Cabe o Mundo  2024-02-28  \n",
       "1               KATIE                               Remember  2024-01-09  \n",
       "2           Jung Kook                 3D (feat. Jack Harlow)  2024-01-09  \n",
       "3           Bad Bunny                               YHLQMDLG  2023-03-02  \n",
       "4         Ambar Lucid                        Garden of Lucid  2023-03-02  \n",
       "...               ...                                    ...         ...  \n",
       "2909         Duckwrth                                Ce Soir  2022-08-09  \n",
       "2910      Tobe Nwigwe                        LORD FORGIVE ME  2022-08-09  \n",
       "2911           j-hope           on the street (with J. Cole)  2023-04-17  \n",
       "2912         Lil Durk                          Almost Healed  2023-06-30  \n",
       "2913            JAY-Z  The Blueprint 2: The Gift & The Curse  2023-10-07  \n",
       "\n",
       "[2914 rows x 6 columns]"
      ]
     },
     "execution_count": 31,
     "metadata": {},
     "output_type": "execute_result"
    }
   ],
   "source": [
    "playlists"
   ]
  },
  {
   "cell_type": "code",
   "execution_count": 32,
   "id": "5645d134-3ba1-422d-9f09-ac4f8d5e4c72",
   "metadata": {},
   "outputs": [
    {
     "data": {
      "text/plain": [
       "0              português\n",
       "1          karaoke songs\n",
       "2          karaoke songs\n",
       "3               Sing it!\n",
       "4               Sing it!\n",
       "              ...       \n",
       "2909    Chris Rap Attack\n",
       "2910    Chris Rap Attack\n",
       "2911    Chris Rap Attack\n",
       "2912    Chris Rap Attack\n",
       "2913    Chris Rap Attack\n",
       "Name: name, Length: 2914, dtype: object"
      ]
     },
     "execution_count": 32,
     "metadata": {},
     "output_type": "execute_result"
    }
   ],
   "source": [
    "# Replace null (NaN) values with playlist names until it changes to the next one\n",
    "playlists['name'] = playlists.name.replace(r'^\\s*$', np.nan, regex = True).ffill()\n",
    "playlists['name']"
   ]
  },
  {
   "cell_type": "code",
   "execution_count": 33,
   "id": "724c2ccd-ff36-453e-9d75-9ae993ed31b1",
   "metadata": {},
   "outputs": [
    {
     "data": {
      "text/html": [
       "<div>\n",
       "<style scoped>\n",
       "    .dataframe tbody tr th:only-of-type {\n",
       "        vertical-align: middle;\n",
       "    }\n",
       "\n",
       "    .dataframe tbody tr th {\n",
       "        vertical-align: top;\n",
       "    }\n",
       "\n",
       "    .dataframe thead th {\n",
       "        text-align: right;\n",
       "    }\n",
       "</style>\n",
       "<table border=\"1\" class=\"dataframe\">\n",
       "  <thead>\n",
       "    <tr style=\"text-align: right;\">\n",
       "      <th></th>\n",
       "      <th>name</th>\n",
       "      <th>lastModifiedDate</th>\n",
       "      <th>trackName</th>\n",
       "      <th>artistName</th>\n",
       "      <th>albumName</th>\n",
       "      <th>addedDate</th>\n",
       "    </tr>\n",
       "  </thead>\n",
       "  <tbody>\n",
       "    <tr>\n",
       "      <th>0</th>\n",
       "      <td>português</td>\n",
       "      <td>2024-02-28</td>\n",
       "      <td>Seja Agora</td>\n",
       "      <td>Monique Kessous</td>\n",
       "      <td>Dentro de Mim Cabe o Mundo</td>\n",
       "      <td>2024-02-28</td>\n",
       "    </tr>\n",
       "    <tr>\n",
       "      <th>1</th>\n",
       "      <td>karaoke songs</td>\n",
       "      <td>2024-01-09</td>\n",
       "      <td>Remember</td>\n",
       "      <td>KATIE</td>\n",
       "      <td>Remember</td>\n",
       "      <td>2024-01-09</td>\n",
       "    </tr>\n",
       "    <tr>\n",
       "      <th>2</th>\n",
       "      <td>karaoke songs</td>\n",
       "      <td>NaN</td>\n",
       "      <td>3D (feat. Jack Harlow)</td>\n",
       "      <td>Jung Kook</td>\n",
       "      <td>3D (feat. Jack Harlow)</td>\n",
       "      <td>2024-01-09</td>\n",
       "    </tr>\n",
       "    <tr>\n",
       "      <th>3</th>\n",
       "      <td>Sing it!</td>\n",
       "      <td>2023-03-02</td>\n",
       "      <td>Yo Perreo Sola</td>\n",
       "      <td>Bad Bunny</td>\n",
       "      <td>YHLQMDLG</td>\n",
       "      <td>2023-03-02</td>\n",
       "    </tr>\n",
       "    <tr>\n",
       "      <th>4</th>\n",
       "      <td>Sing it!</td>\n",
       "      <td>NaN</td>\n",
       "      <td>Fantasmas</td>\n",
       "      <td>Ambar Lucid</td>\n",
       "      <td>Garden of Lucid</td>\n",
       "      <td>2023-03-02</td>\n",
       "    </tr>\n",
       "    <tr>\n",
       "      <th>...</th>\n",
       "      <td>...</td>\n",
       "      <td>...</td>\n",
       "      <td>...</td>\n",
       "      <td>...</td>\n",
       "      <td>...</td>\n",
       "      <td>...</td>\n",
       "    </tr>\n",
       "    <tr>\n",
       "      <th>2909</th>\n",
       "      <td>Chris Rap Attack</td>\n",
       "      <td>NaN</td>\n",
       "      <td>Ce Soir</td>\n",
       "      <td>Duckwrth</td>\n",
       "      <td>Ce Soir</td>\n",
       "      <td>2022-08-09</td>\n",
       "    </tr>\n",
       "    <tr>\n",
       "      <th>2910</th>\n",
       "      <td>Chris Rap Attack</td>\n",
       "      <td>NaN</td>\n",
       "      <td>LORD FORGIVE ME</td>\n",
       "      <td>Tobe Nwigwe</td>\n",
       "      <td>LORD FORGIVE ME</td>\n",
       "      <td>2022-08-09</td>\n",
       "    </tr>\n",
       "    <tr>\n",
       "      <th>2911</th>\n",
       "      <td>Chris Rap Attack</td>\n",
       "      <td>NaN</td>\n",
       "      <td>on the street (with J. Cole)</td>\n",
       "      <td>j-hope</td>\n",
       "      <td>on the street (with J. Cole)</td>\n",
       "      <td>2023-04-17</td>\n",
       "    </tr>\n",
       "    <tr>\n",
       "      <th>2912</th>\n",
       "      <td>Chris Rap Attack</td>\n",
       "      <td>NaN</td>\n",
       "      <td>All My Life (feat. J. Cole)</td>\n",
       "      <td>Lil Durk</td>\n",
       "      <td>Almost Healed</td>\n",
       "      <td>2023-06-30</td>\n",
       "    </tr>\n",
       "    <tr>\n",
       "      <th>2913</th>\n",
       "      <td>Chris Rap Attack</td>\n",
       "      <td>NaN</td>\n",
       "      <td>Excuse Me Miss</td>\n",
       "      <td>JAY-Z</td>\n",
       "      <td>The Blueprint 2: The Gift &amp; The Curse</td>\n",
       "      <td>2023-10-07</td>\n",
       "    </tr>\n",
       "  </tbody>\n",
       "</table>\n",
       "<p>2914 rows × 6 columns</p>\n",
       "</div>"
      ],
      "text/plain": [
       "                  name lastModifiedDate                     trackName  \\\n",
       "0            português       2024-02-28                    Seja Agora   \n",
       "1        karaoke songs       2024-01-09                      Remember   \n",
       "2        karaoke songs              NaN        3D (feat. Jack Harlow)   \n",
       "3             Sing it!       2023-03-02                Yo Perreo Sola   \n",
       "4             Sing it!              NaN                     Fantasmas   \n",
       "...                ...              ...                           ...   \n",
       "2909  Chris Rap Attack              NaN                       Ce Soir   \n",
       "2910  Chris Rap Attack              NaN               LORD FORGIVE ME   \n",
       "2911  Chris Rap Attack              NaN  on the street (with J. Cole)   \n",
       "2912  Chris Rap Attack              NaN   All My Life (feat. J. Cole)   \n",
       "2913  Chris Rap Attack              NaN                Excuse Me Miss   \n",
       "\n",
       "           artistName                              albumName   addedDate  \n",
       "0     Monique Kessous             Dentro de Mim Cabe o Mundo  2024-02-28  \n",
       "1               KATIE                               Remember  2024-01-09  \n",
       "2           Jung Kook                 3D (feat. Jack Harlow)  2024-01-09  \n",
       "3           Bad Bunny                               YHLQMDLG  2023-03-02  \n",
       "4         Ambar Lucid                        Garden of Lucid  2023-03-02  \n",
       "...               ...                                    ...         ...  \n",
       "2909         Duckwrth                                Ce Soir  2022-08-09  \n",
       "2910      Tobe Nwigwe                        LORD FORGIVE ME  2022-08-09  \n",
       "2911           j-hope           on the street (with J. Cole)  2023-04-17  \n",
       "2912         Lil Durk                          Almost Healed  2023-06-30  \n",
       "2913            JAY-Z  The Blueprint 2: The Gift & The Curse  2023-10-07  \n",
       "\n",
       "[2914 rows x 6 columns]"
      ]
     },
     "execution_count": 33,
     "metadata": {},
     "output_type": "execute_result"
    }
   ],
   "source": [
    "playlists"
   ]
  },
  {
   "cell_type": "code",
   "execution_count": 34,
   "id": "57e4ba39-2e52-46fb-9dd7-5d498f5505c5",
   "metadata": {},
   "outputs": [
    {
     "data": {
      "text/plain": [
       "array(['português', 'karaoke songs', 'Sing it!', '음악', 'música', 'Musik',\n",
       "       'Ruthless', 'Chris French', 'Chris Chill', 'Chris Rap Attack'],\n",
       "      dtype=object)"
      ]
     },
     "execution_count": 34,
     "metadata": {},
     "output_type": "execute_result"
    }
   ],
   "source": [
    "# Show the unique playlist names (no duplicates)\n",
    "playlists['name'].unique()"
   ]
  },
  {
   "cell_type": "code",
   "execution_count": 35,
   "id": "3534eb40-485c-427c-834f-56f88e6419d8",
   "metadata": {},
   "outputs": [
    {
     "data": {
      "text/plain": [
       "name\n",
       "Chris Rap Attack    1353\n",
       "음악                   627\n",
       "Chris Chill          567\n",
       "Chris French         283\n",
       "música                31\n",
       "Musik                 29\n",
       "Ruthless              15\n",
       "Sing it!               6\n",
       "karaoke songs          2\n",
       "português              1\n",
       "Name: count, dtype: int64"
      ]
     },
     "execution_count": 35,
     "metadata": {},
     "output_type": "execute_result"
    }
   ],
   "source": [
    "# Count of songs in each playlist\n",
    "pd.Series(playlists['name']).value_counts()"
   ]
  },
  {
   "cell_type": "code",
   "execution_count": 36,
   "id": "2236b2cf-d39f-4d98-a9fc-c3c84c62d52c",
   "metadata": {},
   "outputs": [
    {
     "data": {
      "application/vnd.plotly.v1+json": {
       "config": {
        "plotlyServerURL": "https://plot.ly"
       },
       "data": [
        {
         "alignmentgroup": "True",
         "hovertemplate": "Count: %{y}<br>Playlist: %{x}",
         "legendgroup": "count",
         "marker": {
          "color": "#1DB954",
          "pattern": {
           "shape": ""
          }
         },
         "name": "count",
         "offsetgroup": "count",
         "orientation": "v",
         "showlegend": true,
         "textposition": "auto",
         "type": "bar",
         "x": [
          "Chris Rap Attack",
          "음악",
          "Chris Chill",
          "Chris French",
          "música",
          "Musik",
          "Ruthless",
          "Sing it!",
          "karaoke songs",
          "português"
         ],
         "xaxis": "x",
         "y": [
          1353,
          627,
          567,
          283,
          31,
          29,
          15,
          6,
          2,
          1
         ],
         "yaxis": "y"
        }
       ],
       "layout": {
        "barmode": "relative",
        "height": 600,
        "legend": {
         "title": {
          "text": "variable"
         },
         "tracegroupgap": 0
        },
        "showlegend": false,
        "template": {
         "data": {
          "bar": [
           {
            "error_x": {
             "color": "#2a3f5f"
            },
            "error_y": {
             "color": "#2a3f5f"
            },
            "marker": {
             "line": {
              "color": "#E5ECF6",
              "width": 0.5
             },
             "pattern": {
              "fillmode": "overlay",
              "size": 10,
              "solidity": 0.2
             }
            },
            "type": "bar"
           }
          ],
          "barpolar": [
           {
            "marker": {
             "line": {
              "color": "#E5ECF6",
              "width": 0.5
             },
             "pattern": {
              "fillmode": "overlay",
              "size": 10,
              "solidity": 0.2
             }
            },
            "type": "barpolar"
           }
          ],
          "carpet": [
           {
            "aaxis": {
             "endlinecolor": "#2a3f5f",
             "gridcolor": "white",
             "linecolor": "white",
             "minorgridcolor": "white",
             "startlinecolor": "#2a3f5f"
            },
            "baxis": {
             "endlinecolor": "#2a3f5f",
             "gridcolor": "white",
             "linecolor": "white",
             "minorgridcolor": "white",
             "startlinecolor": "#2a3f5f"
            },
            "type": "carpet"
           }
          ],
          "choropleth": [
           {
            "colorbar": {
             "outlinewidth": 0,
             "ticks": ""
            },
            "type": "choropleth"
           }
          ],
          "contour": [
           {
            "colorbar": {
             "outlinewidth": 0,
             "ticks": ""
            },
            "colorscale": [
             [
              0,
              "#0d0887"
             ],
             [
              0.1111111111111111,
              "#46039f"
             ],
             [
              0.2222222222222222,
              "#7201a8"
             ],
             [
              0.3333333333333333,
              "#9c179e"
             ],
             [
              0.4444444444444444,
              "#bd3786"
             ],
             [
              0.5555555555555556,
              "#d8576b"
             ],
             [
              0.6666666666666666,
              "#ed7953"
             ],
             [
              0.7777777777777778,
              "#fb9f3a"
             ],
             [
              0.8888888888888888,
              "#fdca26"
             ],
             [
              1,
              "#f0f921"
             ]
            ],
            "type": "contour"
           }
          ],
          "contourcarpet": [
           {
            "colorbar": {
             "outlinewidth": 0,
             "ticks": ""
            },
            "type": "contourcarpet"
           }
          ],
          "heatmap": [
           {
            "colorbar": {
             "outlinewidth": 0,
             "ticks": ""
            },
            "colorscale": [
             [
              0,
              "#0d0887"
             ],
             [
              0.1111111111111111,
              "#46039f"
             ],
             [
              0.2222222222222222,
              "#7201a8"
             ],
             [
              0.3333333333333333,
              "#9c179e"
             ],
             [
              0.4444444444444444,
              "#bd3786"
             ],
             [
              0.5555555555555556,
              "#d8576b"
             ],
             [
              0.6666666666666666,
              "#ed7953"
             ],
             [
              0.7777777777777778,
              "#fb9f3a"
             ],
             [
              0.8888888888888888,
              "#fdca26"
             ],
             [
              1,
              "#f0f921"
             ]
            ],
            "type": "heatmap"
           }
          ],
          "heatmapgl": [
           {
            "colorbar": {
             "outlinewidth": 0,
             "ticks": ""
            },
            "colorscale": [
             [
              0,
              "#0d0887"
             ],
             [
              0.1111111111111111,
              "#46039f"
             ],
             [
              0.2222222222222222,
              "#7201a8"
             ],
             [
              0.3333333333333333,
              "#9c179e"
             ],
             [
              0.4444444444444444,
              "#bd3786"
             ],
             [
              0.5555555555555556,
              "#d8576b"
             ],
             [
              0.6666666666666666,
              "#ed7953"
             ],
             [
              0.7777777777777778,
              "#fb9f3a"
             ],
             [
              0.8888888888888888,
              "#fdca26"
             ],
             [
              1,
              "#f0f921"
             ]
            ],
            "type": "heatmapgl"
           }
          ],
          "histogram": [
           {
            "marker": {
             "pattern": {
              "fillmode": "overlay",
              "size": 10,
              "solidity": 0.2
             }
            },
            "type": "histogram"
           }
          ],
          "histogram2d": [
           {
            "colorbar": {
             "outlinewidth": 0,
             "ticks": ""
            },
            "colorscale": [
             [
              0,
              "#0d0887"
             ],
             [
              0.1111111111111111,
              "#46039f"
             ],
             [
              0.2222222222222222,
              "#7201a8"
             ],
             [
              0.3333333333333333,
              "#9c179e"
             ],
             [
              0.4444444444444444,
              "#bd3786"
             ],
             [
              0.5555555555555556,
              "#d8576b"
             ],
             [
              0.6666666666666666,
              "#ed7953"
             ],
             [
              0.7777777777777778,
              "#fb9f3a"
             ],
             [
              0.8888888888888888,
              "#fdca26"
             ],
             [
              1,
              "#f0f921"
             ]
            ],
            "type": "histogram2d"
           }
          ],
          "histogram2dcontour": [
           {
            "colorbar": {
             "outlinewidth": 0,
             "ticks": ""
            },
            "colorscale": [
             [
              0,
              "#0d0887"
             ],
             [
              0.1111111111111111,
              "#46039f"
             ],
             [
              0.2222222222222222,
              "#7201a8"
             ],
             [
              0.3333333333333333,
              "#9c179e"
             ],
             [
              0.4444444444444444,
              "#bd3786"
             ],
             [
              0.5555555555555556,
              "#d8576b"
             ],
             [
              0.6666666666666666,
              "#ed7953"
             ],
             [
              0.7777777777777778,
              "#fb9f3a"
             ],
             [
              0.8888888888888888,
              "#fdca26"
             ],
             [
              1,
              "#f0f921"
             ]
            ],
            "type": "histogram2dcontour"
           }
          ],
          "mesh3d": [
           {
            "colorbar": {
             "outlinewidth": 0,
             "ticks": ""
            },
            "type": "mesh3d"
           }
          ],
          "parcoords": [
           {
            "line": {
             "colorbar": {
              "outlinewidth": 0,
              "ticks": ""
             }
            },
            "type": "parcoords"
           }
          ],
          "pie": [
           {
            "automargin": true,
            "type": "pie"
           }
          ],
          "scatter": [
           {
            "fillpattern": {
             "fillmode": "overlay",
             "size": 10,
             "solidity": 0.2
            },
            "type": "scatter"
           }
          ],
          "scatter3d": [
           {
            "line": {
             "colorbar": {
              "outlinewidth": 0,
              "ticks": ""
             }
            },
            "marker": {
             "colorbar": {
              "outlinewidth": 0,
              "ticks": ""
             }
            },
            "type": "scatter3d"
           }
          ],
          "scattercarpet": [
           {
            "marker": {
             "colorbar": {
              "outlinewidth": 0,
              "ticks": ""
             }
            },
            "type": "scattercarpet"
           }
          ],
          "scattergeo": [
           {
            "marker": {
             "colorbar": {
              "outlinewidth": 0,
              "ticks": ""
             }
            },
            "type": "scattergeo"
           }
          ],
          "scattergl": [
           {
            "marker": {
             "colorbar": {
              "outlinewidth": 0,
              "ticks": ""
             }
            },
            "type": "scattergl"
           }
          ],
          "scattermapbox": [
           {
            "marker": {
             "colorbar": {
              "outlinewidth": 0,
              "ticks": ""
             }
            },
            "type": "scattermapbox"
           }
          ],
          "scatterpolar": [
           {
            "marker": {
             "colorbar": {
              "outlinewidth": 0,
              "ticks": ""
             }
            },
            "type": "scatterpolar"
           }
          ],
          "scatterpolargl": [
           {
            "marker": {
             "colorbar": {
              "outlinewidth": 0,
              "ticks": ""
             }
            },
            "type": "scatterpolargl"
           }
          ],
          "scatterternary": [
           {
            "marker": {
             "colorbar": {
              "outlinewidth": 0,
              "ticks": ""
             }
            },
            "type": "scatterternary"
           }
          ],
          "surface": [
           {
            "colorbar": {
             "outlinewidth": 0,
             "ticks": ""
            },
            "colorscale": [
             [
              0,
              "#0d0887"
             ],
             [
              0.1111111111111111,
              "#46039f"
             ],
             [
              0.2222222222222222,
              "#7201a8"
             ],
             [
              0.3333333333333333,
              "#9c179e"
             ],
             [
              0.4444444444444444,
              "#bd3786"
             ],
             [
              0.5555555555555556,
              "#d8576b"
             ],
             [
              0.6666666666666666,
              "#ed7953"
             ],
             [
              0.7777777777777778,
              "#fb9f3a"
             ],
             [
              0.8888888888888888,
              "#fdca26"
             ],
             [
              1,
              "#f0f921"
             ]
            ],
            "type": "surface"
           }
          ],
          "table": [
           {
            "cells": {
             "fill": {
              "color": "#EBF0F8"
             },
             "line": {
              "color": "white"
             }
            },
            "header": {
             "fill": {
              "color": "#C8D4E3"
             },
             "line": {
              "color": "white"
             }
            },
            "type": "table"
           }
          ]
         },
         "layout": {
          "annotationdefaults": {
           "arrowcolor": "#2a3f5f",
           "arrowhead": 0,
           "arrowwidth": 1
          },
          "autotypenumbers": "strict",
          "coloraxis": {
           "colorbar": {
            "outlinewidth": 0,
            "ticks": ""
           }
          },
          "colorscale": {
           "diverging": [
            [
             0,
             "#8e0152"
            ],
            [
             0.1,
             "#c51b7d"
            ],
            [
             0.2,
             "#de77ae"
            ],
            [
             0.3,
             "#f1b6da"
            ],
            [
             0.4,
             "#fde0ef"
            ],
            [
             0.5,
             "#f7f7f7"
            ],
            [
             0.6,
             "#e6f5d0"
            ],
            [
             0.7,
             "#b8e186"
            ],
            [
             0.8,
             "#7fbc41"
            ],
            [
             0.9,
             "#4d9221"
            ],
            [
             1,
             "#276419"
            ]
           ],
           "sequential": [
            [
             0,
             "#0d0887"
            ],
            [
             0.1111111111111111,
             "#46039f"
            ],
            [
             0.2222222222222222,
             "#7201a8"
            ],
            [
             0.3333333333333333,
             "#9c179e"
            ],
            [
             0.4444444444444444,
             "#bd3786"
            ],
            [
             0.5555555555555556,
             "#d8576b"
            ],
            [
             0.6666666666666666,
             "#ed7953"
            ],
            [
             0.7777777777777778,
             "#fb9f3a"
            ],
            [
             0.8888888888888888,
             "#fdca26"
            ],
            [
             1,
             "#f0f921"
            ]
           ],
           "sequentialminus": [
            [
             0,
             "#0d0887"
            ],
            [
             0.1111111111111111,
             "#46039f"
            ],
            [
             0.2222222222222222,
             "#7201a8"
            ],
            [
             0.3333333333333333,
             "#9c179e"
            ],
            [
             0.4444444444444444,
             "#bd3786"
            ],
            [
             0.5555555555555556,
             "#d8576b"
            ],
            [
             0.6666666666666666,
             "#ed7953"
            ],
            [
             0.7777777777777778,
             "#fb9f3a"
            ],
            [
             0.8888888888888888,
             "#fdca26"
            ],
            [
             1,
             "#f0f921"
            ]
           ]
          },
          "colorway": [
           "#636efa",
           "#EF553B",
           "#00cc96",
           "#ab63fa",
           "#FFA15A",
           "#19d3f3",
           "#FF6692",
           "#B6E880",
           "#FF97FF",
           "#FECB52"
          ],
          "font": {
           "color": "#2a3f5f"
          },
          "geo": {
           "bgcolor": "white",
           "lakecolor": "white",
           "landcolor": "#E5ECF6",
           "showlakes": true,
           "showland": true,
           "subunitcolor": "white"
          },
          "hoverlabel": {
           "align": "left"
          },
          "hovermode": "closest",
          "mapbox": {
           "style": "light"
          },
          "paper_bgcolor": "white",
          "plot_bgcolor": "#E5ECF6",
          "polar": {
           "angularaxis": {
            "gridcolor": "white",
            "linecolor": "white",
            "ticks": ""
           },
           "bgcolor": "#E5ECF6",
           "radialaxis": {
            "gridcolor": "white",
            "linecolor": "white",
            "ticks": ""
           }
          },
          "scene": {
           "xaxis": {
            "backgroundcolor": "#E5ECF6",
            "gridcolor": "white",
            "gridwidth": 2,
            "linecolor": "white",
            "showbackground": true,
            "ticks": "",
            "zerolinecolor": "white"
           },
           "yaxis": {
            "backgroundcolor": "#E5ECF6",
            "gridcolor": "white",
            "gridwidth": 2,
            "linecolor": "white",
            "showbackground": true,
            "ticks": "",
            "zerolinecolor": "white"
           },
           "zaxis": {
            "backgroundcolor": "#E5ECF6",
            "gridcolor": "white",
            "gridwidth": 2,
            "linecolor": "white",
            "showbackground": true,
            "ticks": "",
            "zerolinecolor": "white"
           }
          },
          "shapedefaults": {
           "line": {
            "color": "#2a3f5f"
           }
          },
          "ternary": {
           "aaxis": {
            "gridcolor": "white",
            "linecolor": "white",
            "ticks": ""
           },
           "baxis": {
            "gridcolor": "white",
            "linecolor": "white",
            "ticks": ""
           },
           "bgcolor": "#E5ECF6",
           "caxis": {
            "gridcolor": "white",
            "linecolor": "white",
            "ticks": ""
           }
          },
          "title": {
           "x": 0.05
          },
          "xaxis": {
           "automargin": true,
           "gridcolor": "white",
           "linecolor": "white",
           "ticks": "",
           "title": {
            "standoff": 15
           },
           "zerolinecolor": "white",
           "zerolinewidth": 2
          },
          "yaxis": {
           "automargin": true,
           "gridcolor": "white",
           "linecolor": "white",
           "ticks": "",
           "title": {
            "standoff": 15
           },
           "zerolinecolor": "white",
           "zerolinewidth": 2
          }
         }
        },
        "title": {
         "text": "Count of Songs per Playlist"
        },
        "width": 800,
        "xaxis": {
         "anchor": "y",
         "autorange": true,
         "domain": [
          0,
          1
         ],
         "range": [
          -0.5,
          9.5
         ],
         "tickangle": -45,
         "title": {
          "text": "Playlist Name"
         },
         "type": "category"
        },
        "yaxis": {
         "anchor": "x",
         "autorange": true,
         "domain": [
          0,
          1
         ],
         "range": [
          0,
          1424.2105263157894
         ],
         "title": {
          "text": "Count of Songs"
         },
         "type": "linear"
        }
       }
      },
      "image/png": "[encoded data removed]"
     },
     "metadata": {},
     "output_type": "display_data"
    }
   ],
   "source": [
    "# Create a bar graph that shows the count of songs on each playlist\n",
    "fig = px.bar(playlists['name'].value_counts(),\n",
    "             labels={'index': 'Playlist Name', 'value': 'Count'},\n",
    "             title='Count of Songs per Playlist')\n",
    "fig.update_layout(xaxis_title='Playlist Name', yaxis_title='Count of Songs', xaxis_tickangle=-45, height=600, width=800, showlegend=False)\n",
    "fig.update_traces(marker_color='#1DB954', hovertemplate='Count: %{y}<br>Playlist: %{x}')\n",
    "fig.show()"
   ]
  },
  {
   "cell_type": "markdown",
   "id": "2e763e2d-bbca-4f4c-9dfb-17a8104c3fae",
   "metadata": {},
   "source": [
    "Findings: The playlists starting with Chris are my brother's playlists and the rest are mine<br>We can clearly see that his playlists have far more songs in them than my do<br>\n",
    "The reason for this is because most of my music just goes into Liked Songs or is sorted by language, like '음악' which is my korean music playlist"
   ]
  }
 ],
 "metadata": {
  "kernelspec": {
   "display_name": "Python 3 (ipykernel)",
   "language": "python",
   "name": "python3"
  },
  "language_info": {
   "codemirror_mode": {
    "name": "ipython",
    "version": 3
   },
   "file_extension": ".py",
   "mimetype": "text/x-python",
   "name": "python",
   "nbconvert_exporter": "python",
   "pygments_lexer": "ipython3",
   "version": "3.12.2"
  }
 },
 "nbformat": 4,
 "nbformat_minor": 5
}
